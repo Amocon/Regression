{
 "cells": [
  {
   "attachments": {},
   "cell_type": "markdown",
   "metadata": {},
   "source": [
    "# Regression in Python"
   ]
  },
  {
   "attachments": {},
   "cell_type": "markdown",
   "metadata": {},
   "source": [
    "Dieses Notebook beinhaltet das Praktische Vorgehen bei dem AUfbau (nicht) linearer Regressionen. Hierfür werden die, in der Arbeit beschriebenen, Pakete NumPy, Pandas, MathPlotLib und SciPy bzw. die funktion curve_fit von dem SciPy Unterpaket SciPy.optimize genutzt. Anzumerken ist, dass die Schritte der Datensammlung und Aufbereitung hier nicht behandelt werden, da dies den Rahmen dieser Arbeit überschreitet. Im folgenden wird ein Datenset genutzt, welches frei Verfügbar auf der Website Kaggle aufzufinden ist. Anzumerken ist, das Grundsätzlich alle erkenntnisse mit dem jeweils notwendigem Fachwissen begutachtet werden müssen, um nicht ehlgeleitete Schlüsse zu ziehen."
   ]
  },
  {
   "cell_type": "code",
   "execution_count": 1,
   "metadata": {},
   "outputs": [],
   "source": [
    "import pandas as pd\n",
    "import numpy as np\n",
    "import matplotlib.pyplot as plt\n",
    "from scipy.optimize import curve_fit\n",
    "from scipy.stats import linregress"
   ]
  },
  {
   "attachments": {},
   "cell_type": "markdown",
   "metadata": {},
   "source": [
    "## Welche Daten brauchen wir?"
   ]
  },
  {
   "attachments": {},
   "cell_type": "markdown",
   "metadata": {},
   "source": [
    "Um dieses Dataset zu nutzen, müssen wir es zu erst importieren. Dies geschieht mittels des Pandas Paket. Die Pandas.read...() funktionen bieten hierfür eine gute leicht nutzbare Möglichkeit"
   ]
  },
  {
   "cell_type": "code",
   "execution_count": 2,
   "metadata": {},
   "outputs": [
    {
     "data": {
      "text/html": [
       "<div>\n",
       "<style scoped>\n",
       "    .dataframe tbody tr th:only-of-type {\n",
       "        vertical-align: middle;\n",
       "    }\n",
       "\n",
       "    .dataframe tbody tr th {\n",
       "        vertical-align: top;\n",
       "    }\n",
       "\n",
       "    .dataframe thead th {\n",
       "        text-align: right;\n",
       "    }\n",
       "</style>\n",
       "<table border=\"1\" class=\"dataframe\">\n",
       "  <thead>\n",
       "    <tr style=\"text-align: right;\">\n",
       "      <th></th>\n",
       "      <th>83</th>\n",
       "      <th>234.289</th>\n",
       "      <th>235.6</th>\n",
       "      <th>159</th>\n",
       "      <th>107.608</th>\n",
       "      <th>1947</th>\n",
       "      <th>60.323</th>\n",
       "    </tr>\n",
       "  </thead>\n",
       "  <tbody>\n",
       "    <tr>\n",
       "      <th>0</th>\n",
       "      <td>88.5</td>\n",
       "      <td>259.426</td>\n",
       "      <td>232.5</td>\n",
       "      <td>145.6</td>\n",
       "      <td>108.632</td>\n",
       "      <td>1948</td>\n",
       "      <td>61.122</td>\n",
       "    </tr>\n",
       "    <tr>\n",
       "      <th>1</th>\n",
       "      <td>88.2</td>\n",
       "      <td>258.054</td>\n",
       "      <td>368.2</td>\n",
       "      <td>161.6</td>\n",
       "      <td>109.773</td>\n",
       "      <td>1949</td>\n",
       "      <td>60.171</td>\n",
       "    </tr>\n",
       "    <tr>\n",
       "      <th>2</th>\n",
       "      <td>89.5</td>\n",
       "      <td>284.599</td>\n",
       "      <td>335.1</td>\n",
       "      <td>165.0</td>\n",
       "      <td>110.929</td>\n",
       "      <td>1950</td>\n",
       "      <td>61.187</td>\n",
       "    </tr>\n",
       "    <tr>\n",
       "      <th>3</th>\n",
       "      <td>96.2</td>\n",
       "      <td>328.975</td>\n",
       "      <td>209.9</td>\n",
       "      <td>309.9</td>\n",
       "      <td>112.075</td>\n",
       "      <td>1951</td>\n",
       "      <td>63.221</td>\n",
       "    </tr>\n",
       "    <tr>\n",
       "      <th>4</th>\n",
       "      <td>98.1</td>\n",
       "      <td>346.999</td>\n",
       "      <td>193.2</td>\n",
       "      <td>359.4</td>\n",
       "      <td>113.270</td>\n",
       "      <td>1952</td>\n",
       "      <td>63.639</td>\n",
       "    </tr>\n",
       "  </tbody>\n",
       "</table>\n",
       "</div>"
      ],
      "text/plain": [
       "     83  234.289  235.6    159  107.608  1947  60.323\n",
       "0  88.5  259.426  232.5  145.6  108.632  1948  61.122\n",
       "1  88.2  258.054  368.2  161.6  109.773  1949  60.171\n",
       "2  89.5  284.599  335.1  165.0  110.929  1950  61.187\n",
       "3  96.2  328.975  209.9  309.9  112.075  1951  63.221\n",
       "4  98.1  346.999  193.2  359.4  113.270  1952  63.639"
      ]
     },
     "execution_count": 2,
     "metadata": {},
     "output_type": "execute_result"
    }
   ],
   "source": [
    "df = pd.read_csv('longley.csv')\n",
    "df.head()"
   ]
  },
  {
   "attachments": {},
   "cell_type": "markdown",
   "metadata": {},
   "source": [
    "Nun, da wir die Daten auslesen können, ist es wichtig sich ein Bild von der abhängigen und der einen oder den mehreren unabhängigen Variablen zu machen."
   ]
  },
  {
   "attachments": {},
   "cell_type": "markdown",
   "metadata": {},
   "source": [
    "## Wie sehen unsere Daten aus?"
   ]
  },
  {
   "attachments": {},
   "cell_type": "markdown",
   "metadata": {},
   "source": [
    "In diesem Teil untersuchen wir die Daten nun, um daraufhin zu entscheiden, welche Art von Funktion nötig ist, und um für die folgenden Schätzungen eine bessere Entscheidungsgrundlage zu schaffen. Hierzu plotten wir die Datenpunkte."
   ]
  },
  {
   "cell_type": "code",
   "execution_count": 3,
   "metadata": {},
   "outputs": [
    {
     "data": {
      "text/plain": [
       "<matplotlib.legend.Legend at 0x1a929abec20>"
      ]
     },
     "execution_count": 3,
     "metadata": {},
     "output_type": "execute_result"
    },
    {
     "data": {
      "image/png": "[encoded data removed]",
      "text/plain": [
       "<Figure size 432x288 with 1 Axes>"
      ]
     },
     "metadata": {
      "needs_background": "light"
     },
     "output_type": "display_data"
    }
   ],
   "source": [
    "df = pd.read_csv('longley.csv')\n",
    "data = df.values\n",
    "x, y = data[:, 4], data[:, -1]\n",
    "\n",
    "plt.scatter(x, y, label='Raw Data')\n",
    "plt.xlabel('Population')\n",
    "plt.ylabel('Employed')\n",
    "plt.legend(loc='lower right')"
   ]
  },
  {
   "attachments": {},
   "cell_type": "markdown",
   "metadata": {},
   "source": [
    "Diese Datenpunkte lassen einen Linearen Zusammenhang vermuten."
   ]
  },
  {
   "attachments": {},
   "cell_type": "markdown",
   "metadata": {},
   "source": [
    "## Linear Regression"
   ]
  },
  {
   "cell_type": "code",
   "execution_count": 4,
   "metadata": {},
   "outputs": [
    {
     "data": {
      "text/plain": [
       "LinregressResult(slope=0.48093826579216153, intercept=8.861512409820172, rvalue=0.9538032648633806, pvalue=3.673093153978152e-08, stderr=0.04201505240315141, intercept_stderr=4.9684543221991255)"
      ]
     },
     "execution_count": 4,
     "metadata": {},
     "output_type": "execute_result"
    }
   ],
   "source": [
    "linregress = linregress(x,y)\n",
    "linregress"
   ]
  },
  {
   "cell_type": "code",
   "execution_count": 5,
   "metadata": {},
   "outputs": [
    {
     "data": {
      "text/plain": [
       "Text(0, 0.5, 'Employed')"
      ]
     },
     "execution_count": 5,
     "metadata": {},
     "output_type": "execute_result"
    },
    {
     "data": {
      "image/png": "[encoded data removed]",
      "text/plain": [
       "<Figure size 432x288 with 1 Axes>"
      ]
     },
     "metadata": {
      "needs_background": "light"
     },
     "output_type": "display_data"
    }
   ],
   "source": [
    "def linear(x):\n",
    "    return linregress.slope*x + linregress.intercept\n",
    "    \n",
    "x_monotonic = np.arange(min(x),max(x),1)\n",
    "y_fit = linear(x_monotonic)\n",
    "\n",
    "plt.plot(x_monotonic,y_fit,'--',color='red',label='LinearRegression')\n",
    "plt.legend(loc='lower right')\n",
    "plt.scatter(x, y, label='Raw Data')\n",
    "plt.xlabel('Population')\n",
    "plt.ylabel('Employed')"
   ]
  },
  {
   "attachments": {},
   "cell_type": "markdown",
   "metadata": {},
   "source": [
    "## How to use: Curve Fitting "
   ]
  },
  {
   "attachments": {},
   "cell_type": "markdown",
   "metadata": {},
   "source": [
    "Nun da wir entschieden haben, einen linearen Zusammenhang zu vermuten, ist es an der Zeit die nötigen Parameter für das CurveFitting zu definieren. Mindestens gebraucht werden hierbei die Daten der abhängigen und unabhängigen Variablen wie auch die jeweils gewählte Funktion. "
   ]
  },
  {
   "attachments": {},
   "cell_type": "markdown",
   "metadata": {},
   "source": [
    "Die Funktion linear_fit hat als Parameter an erster Stelle die unabhängige Variable x und als darauffolgende Parameter die Parameter der Funktion die opmimiert werden sollen. Nun, da die mindestanforderungen für ein CurveFitting erfüllt sind, können wir nun die Funktion nutzen."
   ]
  },
  {
   "cell_type": "code",
   "execution_count": 6,
   "metadata": {},
   "outputs": [],
   "source": [
    "def linear_fit(x,m,b):\n",
    "    return m*x + b\n",
    "popt, pcov = curve_fit(linear_fit, x, y)"
   ]
  },
  {
   "attachments": {},
   "cell_type": "markdown",
   "metadata": {},
   "source": [
    "Die Funktion curve_fit gibt im normalfall 2 werte zurück. Popt und pcov. Popt beinhaltet ein Array bestehend aus den optimalen Werten für die Parameter der linear_fit Funktion."
   ]
  },
  {
   "cell_type": "code",
   "execution_count": 7,
   "metadata": {},
   "outputs": [
    {
     "name": "stdout",
     "output_type": "stream",
     "text": [
      "m: 0.4809382705278997 & b: 8.861511850631778\n"
     ]
    }
   ],
   "source": [
    "m, b = popt\n",
    "print(f\"m: {m} & b: {b}\")"
   ]
  },
  {
   "attachments": {},
   "cell_type": "markdown",
   "metadata": {},
   "source": [
    "m:      0.4809382705278997 & b:         8.861511850631778\n",
    "\n",
    "slope=  0.48093826579216153, intercept= 8.861512409820172"
   ]
  },
  {
   "attachments": {},
   "cell_type": "markdown",
   "metadata": {},
   "source": [
    "Pcov ist die vermutete Covarianz von popt, aus welcher man z.B. die Standardabweichung bzw. den Fehler ablesen kann. Dies ist hilfreich um das Modell zu bewerten, jedoch wird in weiteren Teilen dieses Notebooks noch auf die Fehleranalyse eingegangen."
   ]
  },
  {
   "attachments": {},
   "cell_type": "markdown",
   "metadata": {},
   "source": [
    "Die optimalen Parameter kann man nun für m respektive b einsetzen und die lineare Rergessionsgerade ist fertig."
   ]
  },
  {
   "cell_type": "code",
   "execution_count": 8,
   "metadata": {},
   "outputs": [
    {
     "name": "stdout",
     "output_type": "stream",
     "text": [
      "y = 0.48x + 8.86\n"
     ]
    }
   ],
   "source": [
    "print(f\"y = {m.round(2)}x + {b.round(2)}\")"
   ]
  },
  {
   "attachments": {},
   "cell_type": "markdown",
   "metadata": {},
   "source": [
    "## Vermutung aufstellen"
   ]
  },
  {
   "attachments": {},
   "cell_type": "markdown",
   "metadata": {},
   "source": [
    "Beim Curve Fitting ist es häufig Sinnvoll der Funktion curve_fit() erste Schätzungen für die Parameter abzugeben. Diese werden daraufhin von der Funktion mit einbezogen und helfen dabei bessere Fits für die Parameter zu finden. Hierbei ist zu beachten, dass die Qualität der Vermutung die Qualität der von curve_fit() aufgestellten Parameter beeinflusst. Der Parameter p0 der funtion curve_fit nimmt hierbei Beta, also den Vektor an Parametern an. Hierbei muss die Reihenfolge und Anzahl der Parameter die selbe sein, wie die in der definierten Funktion. \n",
    "\n",
    "Anmerkung: Wenn keine Vermutung aufgestellt wird wird für jeden parameter der Wert 1 vermutet."
   ]
  },
  {
   "attachments": {},
   "cell_type": "markdown",
   "metadata": {},
   "source": [
    "    popt, pcov = curve_fit(linear_fit, x, y) == popt, pcov = curve_fit(linear_fit, x, y, p0=[1, 1])"
   ]
  },
  {
   "attachments": {},
   "cell_type": "markdown",
   "metadata": {},
   "source": [
    "Aus den scatter Plot kann man vermuten, dass die Population Anzahl doppelt so schnell steigt, wie die der Mitarbeiter, da von 110 bis 120 Population die Werte der Mitarbeiter von ca 61 auf ca 66 steigen. Unsere Vermutung für m wäre daher 0.5. Aus dem Abschnitt, den wir in den Daten haben kann man nicht leicht auf den Y-Achsen Abschnitt (also b) kommen. Aber wenn die erste Annahme von m = 0.5 genutzt wird ergibt sich schnell, dass der Y-Achsenabschnitt bei ca. 6 sein muss (Wenn man von 110 Population für alle 10 an Population weniger 5 an Employee weniger geht)."
   ]
  },
  {
   "cell_type": "code",
   "execution_count": 9,
   "metadata": {},
   "outputs": [
    {
     "name": "stdout",
     "output_type": "stream",
     "text": [
      "Opmitale Parameter\n",
      "m: 0.4809382705278997 & b: 8.861511850631778\n",
      "Gerade:\n",
      "y = 0.48x + 8.86\n"
     ]
    }
   ],
   "source": [
    "popt, pcov = curve_fit(linear_fit, x, y, p0=[0.5, 6])\n",
    "print(\"Opmitale Parameter\")\n",
    "print(f\"m: {m} & b: {b}\")\n",
    "print(\"Gerade:\")\n",
    "print(f\"y = {m.round(2)}x + {b.round(2)}\")"
   ]
  },
  {
   "attachments": {},
   "cell_type": "markdown",
   "metadata": {},
   "source": [
    "## Nicht lineare Regression"
   ]
  },
  {
   "attachments": {},
   "cell_type": "markdown",
   "metadata": {},
   "source": [
    "Es gibt bei nicht linearen Regressionen nicht nur die eine, wie es bei Linearen immer eine Form von y = mx + b ist. Zu den Formen nicht linearer Regressionen gehören z.B. Exponentialfunktion, logarythmusfunktionen und andere (aus dem teil von den anderen übernehmen). Wie für verschiedene nicht lineare Funktionen die Bestimmung in der Theorie aussieht wurde in vorherigen Teilen dieser Arbeit definiert, hier wird darauf eingegangen, wie nicht lineare Regressionen pratisch anzuwenden sind und an einem Beispiel erläutet."
   ]
  },
  {
   "attachments": {},
   "cell_type": "markdown",
   "metadata": {},
   "source": [
    "Um mit SciPys curve_fit() Funktionen einen nicht Linearen zusammenhang darzustellen gibt es eine naheliegende Lösung. Wie in Vorherigen Teilen dieser Arbeit beschrieben brauchen wir um diese Funktion zu nutzen eine Funktion, welche den Zusammenhang zwischen den Daten beschreiben soll. Diese Funktion muss aber nicht linear sein, und kann jeden beliebigen Zusammenhang darstellen. Im folgenden wird jede besprochene Form einer nicht linearen Regression Vorgestellt."
   ]
  },
  {
   "attachments": {},
   "cell_type": "markdown",
   "metadata": {},
   "source": [
    "### Exponentielle Regression"
   ]
  },
  {
   "cell_type": "code",
   "execution_count": 10,
   "metadata": {},
   "outputs": [],
   "source": [
    "def exponential_func(x,a,b):\n",
    "    return a * np.power(b,x)"
   ]
  },
  {
   "cell_type": "code",
   "execution_count": 11,
   "metadata": {},
   "outputs": [
    {
     "name": "stdout",
     "output_type": "stream",
     "text": [
      "Opmitale Parameter\n",
      "a: 27.97 & b: 1.01\n",
      "Funktion:\n",
      "f(x) = 27.97 * 1.01ˣ\n"
     ]
    }
   ],
   "source": [
    "popt, pcov = curve_fit(exponential_func, x, y)\n",
    "a, b = popt\n",
    "print(\"Opmitale Parameter\")\n",
    "print(f\"a: {a.round(2)} & b: {b.round(2)}\")\n",
    "print(\"Funktion:\")\n",
    "print(f\"f(x) = {a.round(2)} * {b.round(2)}\\u02E3\")"
   ]
  },
  {
   "cell_type": "code",
   "execution_count": 12,
   "metadata": {},
   "outputs": [
    {
     "data": {
      "text/plain": [
       "Text(0, 0.5, 'Employed')"
      ]
     },
     "execution_count": 12,
     "metadata": {},
     "output_type": "execute_result"
    },
    {
     "data": {
      "image/png": "[encoded data removed]",
      "text/plain": [
       "<Figure size 432x288 with 1 Axes>"
      ]
     },
     "metadata": {
      "needs_background": "light"
     },
     "output_type": "display_data"
    }
   ],
   "source": [
    "x_monotonic = np.arange(min(x),max(x),1)\n",
    "#y_fit = linear_fit(x_monotonic)\n",
    "#plt.plot(x_monotonic,y_fit,'--',color='red',label='Linear Fit')\n",
    "y_fit = exponential_func(x_monotonic,*popt)\n",
    "plt.plot(x_monotonic,y_fit,'-',color='green',label='Exponential Fit')\n",
    "plt.legend(loc='lower right')\n",
    "plt.scatter(x, y, label='Raw Data')\n",
    "plt.xlabel('Population')\n",
    "plt.ylabel('Employed')"
   ]
  },
  {
   "cell_type": "code",
   "execution_count": 13,
   "metadata": {},
   "outputs": [
    {
     "data": {
      "text/plain": [
       "Text(0, 0.5, 'Employed')"
      ]
     },
     "execution_count": 13,
     "metadata": {},
     "output_type": "execute_result"
    },
    {
     "data": {
      "image/png": "[encoded data removed]",
      "text/plain": [
       "<Figure size 432x288 with 1 Axes>"
      ]
     },
     "metadata": {
      "needs_background": "light"
     },
     "output_type": "display_data"
    }
   ],
   "source": [
    "x_monotonic = np.arange(min(x),200,1)\n",
    "y_fit = linear(x_monotonic)\n",
    "plt.plot(x_monotonic,y_fit,'--',color='red',label='Linear Fit')\n",
    "y_fit = exponential_func(x_monotonic,*popt)\n",
    "plt.plot(x_monotonic,y_fit,'-',color='green',label='Exponential Fit')\n",
    "plt.legend(loc='lower right')\n",
    "plt.scatter(x, y, label='Raw Data')\n",
    "plt.xlabel('Population')\n",
    "plt.ylabel('Employed')"
   ]
  }
 ],
 "metadata": {
  "kernelspec": {
   "display_name": "Python 3",
   "language": "python",
   "name": "python3"
  },
  "language_info": {
   "codemirror_mode": {
    "name": "ipython",
    "version": 3
   },
   "file_extension": ".py",
   "mimetype": "text/x-python",
   "name": "python",
   "nbconvert_exporter": "python",
   "pygments_lexer": "ipython3",
   "version": "3.10.4"
  },
  "orig_nbformat": 4
 },
 "nbformat": 4,
 "nbformat_minor": 2
}
