{
 "cells": [
  {
   "cell_type": "code",
   "execution_count": 2,
   "metadata": {},
   "outputs": [],
   "source": [
    "import pandas as pd\n",
    "import matplotlib.pyplot as plt\n",
    "import numpy as np\n",
    "from scipy.optimize import curve_fit"
   ]
  },
  {
   "cell_type": "code",
   "execution_count": 4,
   "metadata": {},
   "outputs": [
    {
     "data": {
      "text/html": [
       "<div>\n",
       "<style scoped>\n",
       "    .dataframe tbody tr th:only-of-type {\n",
       "        vertical-align: middle;\n",
       "    }\n",
       "\n",
       "    .dataframe tbody tr th {\n",
       "        vertical-align: top;\n",
       "    }\n",
       "\n",
       "    .dataframe thead th {\n",
       "        text-align: right;\n",
       "    }\n",
       "</style>\n",
       "<table border=\"1\" class=\"dataframe\">\n",
       "  <thead>\n",
       "    <tr style=\"text-align: right;\">\n",
       "      <th></th>\n",
       "      <th>0</th>\n",
       "      <th>1</th>\n",
       "      <th>2</th>\n",
       "      <th>3</th>\n",
       "      <th>4</th>\n",
       "      <th>5</th>\n",
       "      <th>6</th>\n",
       "    </tr>\n",
       "  </thead>\n",
       "  <tbody>\n",
       "    <tr>\n",
       "      <th>0</th>\n",
       "      <td>83.0</td>\n",
       "      <td>234.289</td>\n",
       "      <td>235.6</td>\n",
       "      <td>159.0</td>\n",
       "      <td>107.608</td>\n",
       "      <td>1947</td>\n",
       "      <td>60.323</td>\n",
       "    </tr>\n",
       "    <tr>\n",
       "      <th>1</th>\n",
       "      <td>88.5</td>\n",
       "      <td>259.426</td>\n",
       "      <td>232.5</td>\n",
       "      <td>145.6</td>\n",
       "      <td>108.632</td>\n",
       "      <td>1948</td>\n",
       "      <td>61.122</td>\n",
       "    </tr>\n",
       "    <tr>\n",
       "      <th>2</th>\n",
       "      <td>88.2</td>\n",
       "      <td>258.054</td>\n",
       "      <td>368.2</td>\n",
       "      <td>161.6</td>\n",
       "      <td>109.773</td>\n",
       "      <td>1949</td>\n",
       "      <td>60.171</td>\n",
       "    </tr>\n",
       "    <tr>\n",
       "      <th>3</th>\n",
       "      <td>89.5</td>\n",
       "      <td>284.599</td>\n",
       "      <td>335.1</td>\n",
       "      <td>165.0</td>\n",
       "      <td>110.929</td>\n",
       "      <td>1950</td>\n",
       "      <td>61.187</td>\n",
       "    </tr>\n",
       "    <tr>\n",
       "      <th>4</th>\n",
       "      <td>96.2</td>\n",
       "      <td>328.975</td>\n",
       "      <td>209.9</td>\n",
       "      <td>309.9</td>\n",
       "      <td>112.075</td>\n",
       "      <td>1951</td>\n",
       "      <td>63.221</td>\n",
       "    </tr>\n",
       "    <tr>\n",
       "      <th>5</th>\n",
       "      <td>98.1</td>\n",
       "      <td>346.999</td>\n",
       "      <td>193.2</td>\n",
       "      <td>359.4</td>\n",
       "      <td>113.270</td>\n",
       "      <td>1952</td>\n",
       "      <td>63.639</td>\n",
       "    </tr>\n",
       "    <tr>\n",
       "      <th>6</th>\n",
       "      <td>99.0</td>\n",
       "      <td>365.385</td>\n",
       "      <td>187.0</td>\n",
       "      <td>354.7</td>\n",
       "      <td>115.094</td>\n",
       "      <td>1953</td>\n",
       "      <td>64.989</td>\n",
       "    </tr>\n",
       "    <tr>\n",
       "      <th>7</th>\n",
       "      <td>100.0</td>\n",
       "      <td>363.112</td>\n",
       "      <td>357.8</td>\n",
       "      <td>335.0</td>\n",
       "      <td>116.219</td>\n",
       "      <td>1954</td>\n",
       "      <td>63.761</td>\n",
       "    </tr>\n",
       "    <tr>\n",
       "      <th>8</th>\n",
       "      <td>101.2</td>\n",
       "      <td>397.469</td>\n",
       "      <td>290.4</td>\n",
       "      <td>304.8</td>\n",
       "      <td>117.388</td>\n",
       "      <td>1955</td>\n",
       "      <td>66.019</td>\n",
       "    </tr>\n",
       "    <tr>\n",
       "      <th>9</th>\n",
       "      <td>104.6</td>\n",
       "      <td>419.180</td>\n",
       "      <td>282.2</td>\n",
       "      <td>285.7</td>\n",
       "      <td>118.734</td>\n",
       "      <td>1956</td>\n",
       "      <td>67.857</td>\n",
       "    </tr>\n",
       "    <tr>\n",
       "      <th>10</th>\n",
       "      <td>108.4</td>\n",
       "      <td>442.769</td>\n",
       "      <td>293.6</td>\n",
       "      <td>279.8</td>\n",
       "      <td>120.445</td>\n",
       "      <td>1957</td>\n",
       "      <td>68.169</td>\n",
       "    </tr>\n",
       "    <tr>\n",
       "      <th>11</th>\n",
       "      <td>110.8</td>\n",
       "      <td>444.546</td>\n",
       "      <td>468.1</td>\n",
       "      <td>263.7</td>\n",
       "      <td>121.950</td>\n",
       "      <td>1958</td>\n",
       "      <td>66.513</td>\n",
       "    </tr>\n",
       "    <tr>\n",
       "      <th>12</th>\n",
       "      <td>112.6</td>\n",
       "      <td>482.704</td>\n",
       "      <td>381.3</td>\n",
       "      <td>255.2</td>\n",
       "      <td>123.366</td>\n",
       "      <td>1959</td>\n",
       "      <td>68.655</td>\n",
       "    </tr>\n",
       "    <tr>\n",
       "      <th>13</th>\n",
       "      <td>114.2</td>\n",
       "      <td>502.601</td>\n",
       "      <td>393.1</td>\n",
       "      <td>251.4</td>\n",
       "      <td>125.368</td>\n",
       "      <td>1960</td>\n",
       "      <td>69.564</td>\n",
       "    </tr>\n",
       "    <tr>\n",
       "      <th>14</th>\n",
       "      <td>115.7</td>\n",
       "      <td>518.173</td>\n",
       "      <td>480.6</td>\n",
       "      <td>257.2</td>\n",
       "      <td>127.852</td>\n",
       "      <td>1961</td>\n",
       "      <td>69.331</td>\n",
       "    </tr>\n",
       "    <tr>\n",
       "      <th>15</th>\n",
       "      <td>116.9</td>\n",
       "      <td>554.894</td>\n",
       "      <td>400.7</td>\n",
       "      <td>282.7</td>\n",
       "      <td>130.081</td>\n",
       "      <td>1962</td>\n",
       "      <td>70.551</td>\n",
       "    </tr>\n",
       "  </tbody>\n",
       "</table>\n",
       "</div>"
      ],
      "text/plain": [
       "        0        1      2      3        4     5       6\n",
       "0    83.0  234.289  235.6  159.0  107.608  1947  60.323\n",
       "1    88.5  259.426  232.5  145.6  108.632  1948  61.122\n",
       "2    88.2  258.054  368.2  161.6  109.773  1949  60.171\n",
       "3    89.5  284.599  335.1  165.0  110.929  1950  61.187\n",
       "4    96.2  328.975  209.9  309.9  112.075  1951  63.221\n",
       "5    98.1  346.999  193.2  359.4  113.270  1952  63.639\n",
       "6    99.0  365.385  187.0  354.7  115.094  1953  64.989\n",
       "7   100.0  363.112  357.8  335.0  116.219  1954  63.761\n",
       "8   101.2  397.469  290.4  304.8  117.388  1955  66.019\n",
       "9   104.6  419.180  282.2  285.7  118.734  1956  67.857\n",
       "10  108.4  442.769  293.6  279.8  120.445  1957  68.169\n",
       "11  110.8  444.546  468.1  263.7  121.950  1958  66.513\n",
       "12  112.6  482.704  381.3  255.2  123.366  1959  68.655\n",
       "13  114.2  502.601  393.1  251.4  125.368  1960  69.564\n",
       "14  115.7  518.173  480.6  257.2  127.852  1961  69.331\n",
       "15  116.9  554.894  400.7  282.7  130.081  1962  70.551"
      ]
     },
     "execution_count": 4,
     "metadata": {},
     "output_type": "execute_result"
    }
   ],
   "source": [
    "# read in data and convert to 2D numpy array\n",
    "url = 'https://raw.githubusercontent.com/shenge86/pythonhelpers/master/longley.csv'\n",
    "df = pd.read_csv(url,header=None)\n",
    "df"
   ]
  },
  {
   "cell_type": "code",
   "execution_count": 12,
   "metadata": {},
   "outputs": [
    {
     "data": {
      "text/plain": [
       "<matplotlib.legend.Legend at 0x1aee40962f0>"
      ]
     },
     "execution_count": 12,
     "metadata": {},
     "output_type": "execute_result"
    },
    {
     "data": {
      "image/png": "[encoded data removed]",
      "text/plain": [
       "<Figure size 432x288 with 1 Axes>"
      ]
     },
     "metadata": {
      "needs_background": "light"
     },
     "output_type": "display_data"
    }
   ],
   "source": [
    "data = df.values\n",
    "# choose the input and output variables\n",
    "x, y = data[:, 4], data[:, -1]\n",
    "# plot input vs output\n",
    "plt.scatter(x, y, label='Raw Data')\n",
    "plt.xlabel('Population')\n",
    "plt.ylabel('Employed')\n",
    "plt.legend(loc='lower right')"
   ]
  },
  {
   "attachments": {},
   "cell_type": "markdown",
   "metadata": {},
   "source": [
    "Als nächstes Können wir bestimmen, was für eine Funktion passend für diese Art von Daten wäre. Bei der in Abblungund x (oben) sichtbaren datenwolke liegt ein Linearer zusammenhang nahe, weswegen wir die FUnktion die wir auf dieser Datengrundlage Augbauen wollen auch als eine solche Definieren."
   ]
  },
  {
   "cell_type": "code",
   "execution_count": 9,
   "metadata": {},
   "outputs": [],
   "source": [
    "# create objective function\n",
    "def objective_linear(x,a,b):\n",
    "    return a*x+b"
   ]
  },
  {
   "attachments": {},
   "cell_type": "markdown",
   "metadata": {},
   "source": [
    "Als nächstes kann nun "
   ]
  },
  {
   "cell_type": "code",
   "execution_count": 10,
   "metadata": {},
   "outputs": [
    {
     "name": "stdout",
     "output_type": "stream",
     "text": [
      "Parameter values: \n",
      "y = 0.48488 * x + 8.38067\n"
     ]
    }
   ],
   "source": [
    "# do linear fit\n",
    "fit_paramsL, covariances = curve_fit(objective_linear, x, y)\n",
    "a, b = fit_paramsL\n",
    "print('Parameter values: ')\n",
    "print('y = %.5f * x + %.5f' % (a, b))"
   ]
  },
  {
   "cell_type": "code",
   "execution_count": 15,
   "metadata": {},
   "outputs": [
    {
     "data": {
      "text/plain": [
       "array([60.55743656, 61.04231465, 61.52719275, 62.01207084, 62.49694893,\n",
       "       62.98182703, 63.46670512, 63.95158321, 64.4364613 , 64.9213394 ,\n",
       "       65.40621749, 65.89109558, 66.37597368, 66.86085177, 67.34572986,\n",
       "       67.83060795, 68.31548605, 68.80036414, 69.28524223, 69.77012032,\n",
       "       70.25499842, 70.73987651, 71.2247546 ])"
      ]
     },
     "execution_count": 15,
     "metadata": {},
     "output_type": "execute_result"
    }
   ],
   "source": [
    "x_monotonic = np.arange(min(x),max(x),1)\n",
    "y_fit = objective_linear(x_monotonic,*fit_paramsL)"
   ]
  },
  {
   "cell_type": "code",
   "execution_count": 17,
   "metadata": {},
   "outputs": [
    {
     "data": {
      "image/png": "[encoded data removed]",
      "text/plain": [
       "<Figure size 432x288 with 1 Axes>"
      ]
     },
     "metadata": {
      "needs_background": "light"
     },
     "output_type": "display_data"
    }
   ],
   "source": [
    "plt.scatter(x, y, label='Raw Data')\n",
    "plt.xlabel('Population')\n",
    "plt.ylabel('Employed')\n",
    "plt.legend(loc='lower right')\n",
    "plt.plot(x_monotonic,y_fit,'--',color='red',label='Linear Fit')\n",
    "plt.legend(loc='lower right')\n",
    "plt.savefig('populationvsemployed_linearfit.png')"
   ]
  }
 ],
 "metadata": {
  "kernelspec": {
   "display_name": "Python 3",
   "language": "python",
   "name": "python3"
  },
  "language_info": {
   "codemirror_mode": {
    "name": "ipython",
    "version": 3
   },
   "file_extension": ".py",
   "mimetype": "text/x-python",
   "name": "python",
   "nbconvert_exporter": "python",
   "pygments_lexer": "ipython3",
   "version": "3.10.4"
  },
  "orig_nbformat": 4
 },
 "nbformat": 4,
 "nbformat_minor": 2
}
