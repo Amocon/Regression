{
 "cells": [
  {
   "cell_type": "code",
   "execution_count": 1,
   "metadata": {
    "collapsed": true,
    "pycharm": {
     "name": "#%%\n"
    }
   },
   "outputs": [],
   "source": [
    "import pandas as pd\n",
    "import numpy as np\n",
    "\n",
    "from sklearn.model_selection import train_test_split\n",
    "from sklearn.preprocessing import StandardScaler\n",
    "\n",
    "from sklearn.linear_model import LinearRegression"
   ]
  },
  {
   "cell_type": "markdown",
   "source": [
    "# Wir laden unsere Daten\n",
    "Hierfür benötigen wir ein Dataset"
   ],
   "metadata": {
    "collapsed": false,
    "pycharm": {
     "name": "#%% md\n"
    }
   }
  },
  {
   "cell_type": "code",
   "execution_count": 2,
   "outputs": [
    {
     "data": {
      "text/plain": "      price  bedrooms  bathrooms  sqft_living  sqft_lot  floors  waterfront   \n0  221900.0         3       1.00         1180      5650     1.0           0  \\\n1  538000.0         3       2.25         2570      7242     2.0           0   \n2  180000.0         2       1.00          770     10000     1.0           0   \n3  604000.0         4       3.00         1960      5000     1.0           0   \n4  510000.0         3       2.00         1680      8080     1.0           0   \n\n   view  condition  grade  sqft_above  sqft_basement  sqft_living15   \n0     0          3      7        1180              0           1340  \\\n1     0          3      7        2170            400           1690   \n2     0          3      6         770              0           2720   \n3     0          5      7        1050            910           1360   \n4     0          3      8        1680              0           1800   \n\n   sqft_lot15  \n0        5650  \n1        7639  \n2        8062  \n3        5000  \n4        7503  ",
      "text/html": "<div>\n<style scoped>\n    .dataframe tbody tr th:only-of-type {\n        vertical-align: middle;\n    }\n\n    .dataframe tbody tr th {\n        vertical-align: top;\n    }\n\n    .dataframe thead th {\n        text-align: right;\n    }\n</style>\n<table border=\"1\" class=\"dataframe\">\n  <thead>\n    <tr style=\"text-align: right;\">\n      <th></th>\n      <th>price</th>\n      <th>bedrooms</th>\n      <th>bathrooms</th>\n      <th>sqft_living</th>\n      <th>sqft_lot</th>\n      <th>floors</th>\n      <th>waterfront</th>\n      <th>view</th>\n      <th>condition</th>\n      <th>grade</th>\n      <th>sqft_above</th>\n      <th>sqft_basement</th>\n      <th>sqft_living15</th>\n      <th>sqft_lot15</th>\n    </tr>\n  </thead>\n  <tbody>\n    <tr>\n      <th>0</th>\n      <td>221900.0</td>\n      <td>3</td>\n      <td>1.00</td>\n      <td>1180</td>\n      <td>5650</td>\n      <td>1.0</td>\n      <td>0</td>\n      <td>0</td>\n      <td>3</td>\n      <td>7</td>\n      <td>1180</td>\n      <td>0</td>\n      <td>1340</td>\n      <td>5650</td>\n    </tr>\n    <tr>\n      <th>1</th>\n      <td>538000.0</td>\n      <td>3</td>\n      <td>2.25</td>\n      <td>2570</td>\n      <td>7242</td>\n      <td>2.0</td>\n      <td>0</td>\n      <td>0</td>\n      <td>3</td>\n      <td>7</td>\n      <td>2170</td>\n      <td>400</td>\n      <td>1690</td>\n      <td>7639</td>\n    </tr>\n    <tr>\n      <th>2</th>\n      <td>180000.0</td>\n      <td>2</td>\n      <td>1.00</td>\n      <td>770</td>\n      <td>10000</td>\n      <td>1.0</td>\n      <td>0</td>\n      <td>0</td>\n      <td>3</td>\n      <td>6</td>\n      <td>770</td>\n      <td>0</td>\n      <td>2720</td>\n      <td>8062</td>\n    </tr>\n    <tr>\n      <th>3</th>\n      <td>604000.0</td>\n      <td>4</td>\n      <td>3.00</td>\n      <td>1960</td>\n      <td>5000</td>\n      <td>1.0</td>\n      <td>0</td>\n      <td>0</td>\n      <td>5</td>\n      <td>7</td>\n      <td>1050</td>\n      <td>910</td>\n      <td>1360</td>\n      <td>5000</td>\n    </tr>\n    <tr>\n      <th>4</th>\n      <td>510000.0</td>\n      <td>3</td>\n      <td>2.00</td>\n      <td>1680</td>\n      <td>8080</td>\n      <td>1.0</td>\n      <td>0</td>\n      <td>0</td>\n      <td>3</td>\n      <td>8</td>\n      <td>1680</td>\n      <td>0</td>\n      <td>1800</td>\n      <td>7503</td>\n    </tr>\n  </tbody>\n</table>\n</div>"
     },
     "execution_count": 2,
     "metadata": {},
     "output_type": "execute_result"
    }
   ],
   "source": [
    "df = pd.read_csv('house_prices.csv')\n",
    "df = df.drop(['id', 'date', 'yr_built', 'yr_renovated', 'zipcode', 'lat', 'long'], axis=1)\n",
    "df.head()"
   ],
   "metadata": {
    "collapsed": false,
    "pycharm": {
     "name": "#%%\n"
    }
   }
  },
  {
   "cell_type": "code",
   "execution_count": 3,
   "outputs": [],
   "source": [
    "x = df.drop('price', axis=1)\n",
    "y = df['price']\n",
    "\n",
    "trainX, testX, trainY, testY = train_test_split(x, y, test_size = 0.2)"
   ],
   "metadata": {
    "collapsed": false,
    "pycharm": {
     "name": "#%%\n"
    }
   }
  },
  {
   "cell_type": "code",
   "execution_count": 4,
   "outputs": [],
   "source": [
    "sc=StandardScaler()\n",
    "\n",
    "scaler = sc.fit(trainX)\n",
    "\n",
    "trainX_scaled = scaler.transform(trainX)\n",
    "testX_scaled = scaler.transform(testX)"
   ],
   "metadata": {
    "collapsed": false,
    "pycharm": {
     "name": "#%%\n"
    }
   }
  },
  {
   "cell_type": "markdown",
   "source": [
    "# Lineare Regression\n",
    "Für das Beispiel verwenden wir eine Lineare Regression mit Trainingsdaten und wenden diese auf den Test Daten an"
   ],
   "metadata": {
    "collapsed": false,
    "pycharm": {
     "name": "#%% md\n"
    }
   }
  },
  {
   "cell_type": "code",
   "execution_count": 5,
   "outputs": [
    {
     "data": {
      "text/plain": "LinearRegression()",
      "text/html": "<style>#sk-container-id-1 {color: black;background-color: white;}#sk-container-id-1 pre{padding: 0;}#sk-container-id-1 div.sk-toggleable {background-color: white;}#sk-container-id-1 label.sk-toggleable__label {cursor: pointer;display: block;width: 100%;margin-bottom: 0;padding: 0.3em;box-sizing: border-box;text-align: center;}#sk-container-id-1 label.sk-toggleable__label-arrow:before {content: \"▸\";float: left;margin-right: 0.25em;color: #696969;}#sk-container-id-1 label.sk-toggleable__label-arrow:hover:before {color: black;}#sk-container-id-1 div.sk-estimator:hover label.sk-toggleable__label-arrow:before {color: black;}#sk-container-id-1 div.sk-toggleable__content {max-height: 0;max-width: 0;overflow: hidden;text-align: left;background-color: #f0f8ff;}#sk-container-id-1 div.sk-toggleable__content pre {margin: 0.2em;color: black;border-radius: 0.25em;background-color: #f0f8ff;}#sk-container-id-1 input.sk-toggleable__control:checked~div.sk-toggleable__content {max-height: 200px;max-width: 100%;overflow: auto;}#sk-container-id-1 input.sk-toggleable__control:checked~label.sk-toggleable__label-arrow:before {content: \"▾\";}#sk-container-id-1 div.sk-estimator input.sk-toggleable__control:checked~label.sk-toggleable__label {background-color: #d4ebff;}#sk-container-id-1 div.sk-label input.sk-toggleable__control:checked~label.sk-toggleable__label {background-color: #d4ebff;}#sk-container-id-1 input.sk-hidden--visually {border: 0;clip: rect(1px 1px 1px 1px);clip: rect(1px, 1px, 1px, 1px);height: 1px;margin: -1px;overflow: hidden;padding: 0;position: absolute;width: 1px;}#sk-container-id-1 div.sk-estimator {font-family: monospace;background-color: #f0f8ff;border: 1px dotted black;border-radius: 0.25em;box-sizing: border-box;margin-bottom: 0.5em;}#sk-container-id-1 div.sk-estimator:hover {background-color: #d4ebff;}#sk-container-id-1 div.sk-parallel-item::after {content: \"\";width: 100%;border-bottom: 1px solid gray;flex-grow: 1;}#sk-container-id-1 div.sk-label:hover label.sk-toggleable__label {background-color: #d4ebff;}#sk-container-id-1 div.sk-serial::before {content: \"\";position: absolute;border-left: 1px solid gray;box-sizing: border-box;top: 0;bottom: 0;left: 50%;z-index: 0;}#sk-container-id-1 div.sk-serial {display: flex;flex-direction: column;align-items: center;background-color: white;padding-right: 0.2em;padding-left: 0.2em;position: relative;}#sk-container-id-1 div.sk-item {position: relative;z-index: 1;}#sk-container-id-1 div.sk-parallel {display: flex;align-items: stretch;justify-content: center;background-color: white;position: relative;}#sk-container-id-1 div.sk-item::before, #sk-container-id-1 div.sk-parallel-item::before {content: \"\";position: absolute;border-left: 1px solid gray;box-sizing: border-box;top: 0;bottom: 0;left: 50%;z-index: -1;}#sk-container-id-1 div.sk-parallel-item {display: flex;flex-direction: column;z-index: 1;position: relative;background-color: white;}#sk-container-id-1 div.sk-parallel-item:first-child::after {align-self: flex-end;width: 50%;}#sk-container-id-1 div.sk-parallel-item:last-child::after {align-self: flex-start;width: 50%;}#sk-container-id-1 div.sk-parallel-item:only-child::after {width: 0;}#sk-container-id-1 div.sk-dashed-wrapped {border: 1px dashed gray;margin: 0 0.4em 0.5em 0.4em;box-sizing: border-box;padding-bottom: 0.4em;background-color: white;}#sk-container-id-1 div.sk-label label {font-family: monospace;font-weight: bold;display: inline-block;line-height: 1.2em;}#sk-container-id-1 div.sk-label-container {text-align: center;}#sk-container-id-1 div.sk-container {/* jupyter's `normalize.less` sets `[hidden] { display: none; }` but bootstrap.min.css set `[hidden] { display: none !important; }` so we also need the `!important` here to be able to override the default hidden behavior on the sphinx rendered scikit-learn.org. See: https://github.com/scikit-learn/scikit-learn/issues/21755 */display: inline-block !important;position: relative;}#sk-container-id-1 div.sk-text-repr-fallback {display: none;}</style><div id=\"sk-container-id-1\" class=\"sk-top-container\"><div class=\"sk-text-repr-fallback\"><pre>LinearRegression()</pre><b>In a Jupyter environment, please rerun this cell to show the HTML representation or trust the notebook. <br />On GitHub, the HTML representation is unable to render, please try loading this page with nbviewer.org.</b></div><div class=\"sk-container\" hidden><div class=\"sk-item\"><div class=\"sk-estimator sk-toggleable\"><input class=\"sk-toggleable__control sk-hidden--visually\" id=\"sk-estimator-id-1\" type=\"checkbox\" checked><label for=\"sk-estimator-id-1\" class=\"sk-toggleable__label sk-toggleable__label-arrow\">LinearRegression</label><div class=\"sk-toggleable__content\"><pre>LinearRegression()</pre></div></div></div></div></div>"
     },
     "execution_count": 5,
     "metadata": {},
     "output_type": "execute_result"
    }
   ],
   "source": [
    "lm = LinearRegression()\n",
    "lm.fit(trainX_scaled, trainY)"
   ],
   "metadata": {
    "collapsed": false,
    "pycharm": {
     "name": "#%%\n"
    }
   }
  },
  {
   "cell_type": "code",
   "execution_count": 6,
   "outputs": [],
   "source": [
    "y_pred = lm.predict(testX_scaled)"
   ],
   "metadata": {
    "collapsed": false,
    "pycharm": {
     "name": "#%%\n"
    }
   }
  },
  {
   "cell_type": "code",
   "execution_count": 7,
   "outputs": [
    {
     "data": {
      "text/plain": "         Actual     Predicted\n5132   507000.0  1.036798e+06\n5824   386000.0  6.323635e+05\n6950   482000.0  5.131885e+05\n6837   299000.0  3.963952e+05\n6561  1337500.0  9.677359e+05",
      "text/html": "<div>\n<style scoped>\n    .dataframe tbody tr th:only-of-type {\n        vertical-align: middle;\n    }\n\n    .dataframe tbody tr th {\n        vertical-align: top;\n    }\n\n    .dataframe thead th {\n        text-align: right;\n    }\n</style>\n<table border=\"1\" class=\"dataframe\">\n  <thead>\n    <tr style=\"text-align: right;\">\n      <th></th>\n      <th>Actual</th>\n      <th>Predicted</th>\n    </tr>\n  </thead>\n  <tbody>\n    <tr>\n      <th>5132</th>\n      <td>507000.0</td>\n      <td>1.036798e+06</td>\n    </tr>\n    <tr>\n      <th>5824</th>\n      <td>386000.0</td>\n      <td>6.323635e+05</td>\n    </tr>\n    <tr>\n      <th>6950</th>\n      <td>482000.0</td>\n      <td>5.131885e+05</td>\n    </tr>\n    <tr>\n      <th>6837</th>\n      <td>299000.0</td>\n      <td>3.963952e+05</td>\n    </tr>\n    <tr>\n      <th>6561</th>\n      <td>1337500.0</td>\n      <td>9.677359e+05</td>\n    </tr>\n  </tbody>\n</table>\n</div>"
     },
     "execution_count": 7,
     "metadata": {},
     "output_type": "execute_result"
    }
   ],
   "source": [
    "df_results = pd.DataFrame({'Actual': testY, 'Predicted': y_pred})\n",
    "df_results.head()"
   ],
   "metadata": {
    "collapsed": false,
    "pycharm": {
     "name": "#%%\n"
    }
   }
  },
  {
   "cell_type": "markdown",
   "source": [
    "# Berechnung des MSE\n",
    "Die Berechnung machen wir zuerst manuell um die einzelnen Schritte zu erläutern. Der große Unterschied zum MAE liegt daran, dass wir hier den Fehler zum quadrat nehmen."
   ],
   "metadata": {
    "collapsed": false,
    "pycharm": {
     "name": "#%% md\n"
    }
   }
  },
  {
   "cell_type": "code",
   "execution_count": 41,
   "outputs": [],
   "source": [
    "import math"
   ],
   "metadata": {
    "collapsed": false,
    "pycharm": {
     "name": "#%%\n"
    }
   }
  },
  {
   "cell_type": "code",
   "execution_count": 42,
   "outputs": [
    {
     "data": {
      "text/plain": "         Actual     Predicted  actual_abs          error      error_abs   \n5132   507000.0  1.036798e+06    507000.0 -529797.658953  529797.658953  \\\n5824   386000.0  6.323635e+05    386000.0 -246363.462546  246363.462546   \n6950   482000.0  5.131885e+05    482000.0  -31188.470358   31188.470358   \n6837   299000.0  3.963952e+05    299000.0  -97395.153708   97395.153708   \n6561  1337500.0  9.677359e+05   1337500.0  369764.093037  369764.093037   \n\n      percentage_error  predicted_abs  \n5132         51.099427   1.036798e+06  \n5824         38.959155   6.323635e+05  \n6950          6.077391   5.131885e+05  \n6837         24.570218   3.963952e+05  \n6561         38.209194   9.677359e+05  ",
      "text/html": "<div>\n<style scoped>\n    .dataframe tbody tr th:only-of-type {\n        vertical-align: middle;\n    }\n\n    .dataframe tbody tr th {\n        vertical-align: top;\n    }\n\n    .dataframe thead th {\n        text-align: right;\n    }\n</style>\n<table border=\"1\" class=\"dataframe\">\n  <thead>\n    <tr style=\"text-align: right;\">\n      <th></th>\n      <th>Actual</th>\n      <th>Predicted</th>\n      <th>actual_abs</th>\n      <th>error</th>\n      <th>error_abs</th>\n      <th>percentage_error</th>\n      <th>predicted_abs</th>\n    </tr>\n  </thead>\n  <tbody>\n    <tr>\n      <th>5132</th>\n      <td>507000.0</td>\n      <td>1.036798e+06</td>\n      <td>507000.0</td>\n      <td>-529797.658953</td>\n      <td>529797.658953</td>\n      <td>51.099427</td>\n      <td>1.036798e+06</td>\n    </tr>\n    <tr>\n      <th>5824</th>\n      <td>386000.0</td>\n      <td>6.323635e+05</td>\n      <td>386000.0</td>\n      <td>-246363.462546</td>\n      <td>246363.462546</td>\n      <td>38.959155</td>\n      <td>6.323635e+05</td>\n    </tr>\n    <tr>\n      <th>6950</th>\n      <td>482000.0</td>\n      <td>5.131885e+05</td>\n      <td>482000.0</td>\n      <td>-31188.470358</td>\n      <td>31188.470358</td>\n      <td>6.077391</td>\n      <td>5.131885e+05</td>\n    </tr>\n    <tr>\n      <th>6837</th>\n      <td>299000.0</td>\n      <td>3.963952e+05</td>\n      <td>299000.0</td>\n      <td>-97395.153708</td>\n      <td>97395.153708</td>\n      <td>24.570218</td>\n      <td>3.963952e+05</td>\n    </tr>\n    <tr>\n      <th>6561</th>\n      <td>1337500.0</td>\n      <td>9.677359e+05</td>\n      <td>1337500.0</td>\n      <td>369764.093037</td>\n      <td>369764.093037</td>\n      <td>38.209194</td>\n      <td>9.677359e+05</td>\n    </tr>\n  </tbody>\n</table>\n</div>"
     },
     "execution_count": 42,
     "metadata": {},
     "output_type": "execute_result"
    }
   ],
   "source": [
    "df_results['error'] = df_results['Actual'] - df_results['Predicted']\n",
    "df_results.head()"
   ],
   "metadata": {
    "collapsed": false,
    "pycharm": {
     "name": "#%%\n"
    }
   }
  },
  {
   "cell_type": "code",
   "execution_count": 43,
   "outputs": [
    {
     "data": {
      "text/plain": "         Actual     Predicted  actual_abs          error      error_abs   \n5132   507000.0  1.036798e+06    507000.0 -529797.658953  529797.658953  \\\n5824   386000.0  6.323635e+05    386000.0 -246363.462546  246363.462546   \n6950   482000.0  5.131885e+05    482000.0  -31188.470358   31188.470358   \n6837   299000.0  3.963952e+05    299000.0  -97395.153708   97395.153708   \n6561  1337500.0  9.677359e+05   1337500.0  369764.093037  369764.093037   \n\n      percentage_error  predicted_abs  \n5132         51.099427   1.036798e+06  \n5824         38.959155   6.323635e+05  \n6950          6.077391   5.131885e+05  \n6837         24.570218   3.963952e+05  \n6561         38.209194   9.677359e+05  ",
      "text/html": "<div>\n<style scoped>\n    .dataframe tbody tr th:only-of-type {\n        vertical-align: middle;\n    }\n\n    .dataframe tbody tr th {\n        vertical-align: top;\n    }\n\n    .dataframe thead th {\n        text-align: right;\n    }\n</style>\n<table border=\"1\" class=\"dataframe\">\n  <thead>\n    <tr style=\"text-align: right;\">\n      <th></th>\n      <th>Actual</th>\n      <th>Predicted</th>\n      <th>actual_abs</th>\n      <th>error</th>\n      <th>error_abs</th>\n      <th>percentage_error</th>\n      <th>predicted_abs</th>\n    </tr>\n  </thead>\n  <tbody>\n    <tr>\n      <th>5132</th>\n      <td>507000.0</td>\n      <td>1.036798e+06</td>\n      <td>507000.0</td>\n      <td>-529797.658953</td>\n      <td>529797.658953</td>\n      <td>51.099427</td>\n      <td>1.036798e+06</td>\n    </tr>\n    <tr>\n      <th>5824</th>\n      <td>386000.0</td>\n      <td>6.323635e+05</td>\n      <td>386000.0</td>\n      <td>-246363.462546</td>\n      <td>246363.462546</td>\n      <td>38.959155</td>\n      <td>6.323635e+05</td>\n    </tr>\n    <tr>\n      <th>6950</th>\n      <td>482000.0</td>\n      <td>5.131885e+05</td>\n      <td>482000.0</td>\n      <td>-31188.470358</td>\n      <td>31188.470358</td>\n      <td>6.077391</td>\n      <td>5.131885e+05</td>\n    </tr>\n    <tr>\n      <th>6837</th>\n      <td>299000.0</td>\n      <td>3.963952e+05</td>\n      <td>299000.0</td>\n      <td>-97395.153708</td>\n      <td>97395.153708</td>\n      <td>24.570218</td>\n      <td>3.963952e+05</td>\n    </tr>\n    <tr>\n      <th>6561</th>\n      <td>1337500.0</td>\n      <td>9.677359e+05</td>\n      <td>1337500.0</td>\n      <td>369764.093037</td>\n      <td>369764.093037</td>\n      <td>38.209194</td>\n      <td>9.677359e+05</td>\n    </tr>\n  </tbody>\n</table>\n</div>"
     },
     "execution_count": 43,
     "metadata": {},
     "output_type": "execute_result"
    }
   ],
   "source": [
    "df_results['error_abs'] = df_results['error'].abs()\n",
    "df_results.head()"
   ],
   "metadata": {
    "collapsed": false,
    "pycharm": {
     "name": "#%%\n"
    }
   }
  },
  {
   "cell_type": "code",
   "execution_count": 44,
   "outputs": [
    {
     "data": {
      "text/plain": "         Actual     Predicted  actual_abs          error      error_abs   \n5132   507000.0  1.036798e+06    507000.0 -529797.658953  529797.658953  \\\n5824   386000.0  6.323635e+05    386000.0 -246363.462546  246363.462546   \n6950   482000.0  5.131885e+05    482000.0  -31188.470358   31188.470358   \n6837   299000.0  3.963952e+05    299000.0  -97395.153708   97395.153708   \n6561  1337500.0  9.677359e+05   1337500.0  369764.093037  369764.093037   \n\n      percentage_error  predicted_abs  \n5132         51.099427   1.036798e+06  \n5824         38.959155   6.323635e+05  \n6950          6.077391   5.131885e+05  \n6837         24.570218   3.963952e+05  \n6561         38.209194   9.677359e+05  ",
      "text/html": "<div>\n<style scoped>\n    .dataframe tbody tr th:only-of-type {\n        vertical-align: middle;\n    }\n\n    .dataframe tbody tr th {\n        vertical-align: top;\n    }\n\n    .dataframe thead th {\n        text-align: right;\n    }\n</style>\n<table border=\"1\" class=\"dataframe\">\n  <thead>\n    <tr style=\"text-align: right;\">\n      <th></th>\n      <th>Actual</th>\n      <th>Predicted</th>\n      <th>actual_abs</th>\n      <th>error</th>\n      <th>error_abs</th>\n      <th>percentage_error</th>\n      <th>predicted_abs</th>\n    </tr>\n  </thead>\n  <tbody>\n    <tr>\n      <th>5132</th>\n      <td>507000.0</td>\n      <td>1.036798e+06</td>\n      <td>507000.0</td>\n      <td>-529797.658953</td>\n      <td>529797.658953</td>\n      <td>51.099427</td>\n      <td>1.036798e+06</td>\n    </tr>\n    <tr>\n      <th>5824</th>\n      <td>386000.0</td>\n      <td>6.323635e+05</td>\n      <td>386000.0</td>\n      <td>-246363.462546</td>\n      <td>246363.462546</td>\n      <td>38.959155</td>\n      <td>6.323635e+05</td>\n    </tr>\n    <tr>\n      <th>6950</th>\n      <td>482000.0</td>\n      <td>5.131885e+05</td>\n      <td>482000.0</td>\n      <td>-31188.470358</td>\n      <td>31188.470358</td>\n      <td>6.077391</td>\n      <td>5.131885e+05</td>\n    </tr>\n    <tr>\n      <th>6837</th>\n      <td>299000.0</td>\n      <td>3.963952e+05</td>\n      <td>299000.0</td>\n      <td>-97395.153708</td>\n      <td>97395.153708</td>\n      <td>24.570218</td>\n      <td>3.963952e+05</td>\n    </tr>\n    <tr>\n      <th>6561</th>\n      <td>1337500.0</td>\n      <td>9.677359e+05</td>\n      <td>1337500.0</td>\n      <td>369764.093037</td>\n      <td>369764.093037</td>\n      <td>38.209194</td>\n      <td>9.677359e+05</td>\n    </tr>\n  </tbody>\n</table>\n</div>"
     },
     "execution_count": 44,
     "metadata": {},
     "output_type": "execute_result"
    }
   ],
   "source": [
    "df_results['actual_abs'] = df_results['Actual'].abs()\n",
    "df_results.head()"
   ],
   "metadata": {
    "collapsed": false,
    "pycharm": {
     "name": "#%%\n"
    }
   }
  },
  {
   "cell_type": "code",
   "execution_count": 45,
   "outputs": [
    {
     "data": {
      "text/plain": "         Actual     Predicted  actual_abs          error      error_abs   \n5132   507000.0  1.036798e+06    507000.0 -529797.658953  529797.658953  \\\n5824   386000.0  6.323635e+05    386000.0 -246363.462546  246363.462546   \n6950   482000.0  5.131885e+05    482000.0  -31188.470358   31188.470358   \n6837   299000.0  3.963952e+05    299000.0  -97395.153708   97395.153708   \n6561  1337500.0  9.677359e+05   1337500.0  369764.093037  369764.093037   \n\n      percentage_error  predicted_abs  \n5132          1.044966   1.036798e+06  \n5824          0.638247   6.323635e+05  \n6950          0.064706   5.131885e+05  \n6837          0.325736   3.963952e+05  \n6561          0.276459   9.677359e+05  ",
      "text/html": "<div>\n<style scoped>\n    .dataframe tbody tr th:only-of-type {\n        vertical-align: middle;\n    }\n\n    .dataframe tbody tr th {\n        vertical-align: top;\n    }\n\n    .dataframe thead th {\n        text-align: right;\n    }\n</style>\n<table border=\"1\" class=\"dataframe\">\n  <thead>\n    <tr style=\"text-align: right;\">\n      <th></th>\n      <th>Actual</th>\n      <th>Predicted</th>\n      <th>actual_abs</th>\n      <th>error</th>\n      <th>error_abs</th>\n      <th>percentage_error</th>\n      <th>predicted_abs</th>\n    </tr>\n  </thead>\n  <tbody>\n    <tr>\n      <th>5132</th>\n      <td>507000.0</td>\n      <td>1.036798e+06</td>\n      <td>507000.0</td>\n      <td>-529797.658953</td>\n      <td>529797.658953</td>\n      <td>1.044966</td>\n      <td>1.036798e+06</td>\n    </tr>\n    <tr>\n      <th>5824</th>\n      <td>386000.0</td>\n      <td>6.323635e+05</td>\n      <td>386000.0</td>\n      <td>-246363.462546</td>\n      <td>246363.462546</td>\n      <td>0.638247</td>\n      <td>6.323635e+05</td>\n    </tr>\n    <tr>\n      <th>6950</th>\n      <td>482000.0</td>\n      <td>5.131885e+05</td>\n      <td>482000.0</td>\n      <td>-31188.470358</td>\n      <td>31188.470358</td>\n      <td>0.064706</td>\n      <td>5.131885e+05</td>\n    </tr>\n    <tr>\n      <th>6837</th>\n      <td>299000.0</td>\n      <td>3.963952e+05</td>\n      <td>299000.0</td>\n      <td>-97395.153708</td>\n      <td>97395.153708</td>\n      <td>0.325736</td>\n      <td>3.963952e+05</td>\n    </tr>\n    <tr>\n      <th>6561</th>\n      <td>1337500.0</td>\n      <td>9.677359e+05</td>\n      <td>1337500.0</td>\n      <td>369764.093037</td>\n      <td>369764.093037</td>\n      <td>0.276459</td>\n      <td>9.677359e+05</td>\n    </tr>\n  </tbody>\n</table>\n</div>"
     },
     "execution_count": 45,
     "metadata": {},
     "output_type": "execute_result"
    }
   ],
   "source": [
    "df_results['percentage_error'] = (df_results['error_abs'] / df_results['actual_abs'])\n",
    "df_results.head()"
   ],
   "metadata": {
    "collapsed": false,
    "pycharm": {
     "name": "#%%\n"
    }
   }
  },
  {
   "cell_type": "code",
   "execution_count": 46,
   "outputs": [
    {
     "data": {
      "text/plain": "1368.6070340847923"
     },
     "execution_count": 46,
     "metadata": {},
     "output_type": "execute_result"
    }
   ],
   "source": [
    "sum_error_abs = df_results['percentage_error'].sum()\n",
    "sum_error_abs"
   ],
   "metadata": {
    "collapsed": false,
    "pycharm": {
     "name": "#%%\n"
    }
   }
  },
  {
   "cell_type": "code",
   "execution_count": 47,
   "outputs": [
    {
     "data": {
      "text/plain": "4323"
     },
     "execution_count": 47,
     "metadata": {},
     "output_type": "execute_result"
    }
   ],
   "source": [
    "no_observations = len(df_results)\n",
    "no_observations"
   ],
   "metadata": {
    "collapsed": false,
    "pycharm": {
     "name": "#%%\n"
    }
   }
  },
  {
   "cell_type": "code",
   "execution_count": 48,
   "outputs": [
    {
     "data": {
      "text/plain": "0.31658733150238083"
     },
     "execution_count": 48,
     "metadata": {},
     "output_type": "execute_result"
    }
   ],
   "source": [
    "mape = sum_error_abs / no_observations\n",
    "mape"
   ],
   "metadata": {
    "collapsed": false,
    "pycharm": {
     "name": "#%%\n"
    }
   }
  },
  {
   "cell_type": "markdown",
   "source": [
    "# In Python geht es viel schneller\n",
    "Mit der sklearn Bibliothek kann man ganz einfach die metrics importieren und hierbei den Mean Squared Error berechnen. Das ganze geht mit dem Befehl <span style=\"background-color:lightgrey;\">metrics.mean_squared_error(testY, y_pred)</span>"
   ],
   "metadata": {
    "collapsed": false,
    "pycharm": {
     "name": "#%% md\n"
    }
   }
  },
  {
   "cell_type": "code",
   "execution_count": 25,
   "outputs": [
    {
     "name": "stdout",
     "output_type": "stream",
     "text": [
      "Mean Absolute Percentage Error: 0.31658733150238083\n"
     ]
    }
   ],
   "source": [
    "from sklearn import metrics\n",
    "print('Mean Absolute Percentage Error:', metrics.mean_absolute_percentage_error(testY, y_pred))\n"
   ],
   "metadata": {
    "collapsed": false,
    "pycharm": {
     "name": "#%%\n"
    }
   }
  },
  {
   "cell_type": "code",
   "execution_count": null,
   "outputs": [],
   "source": [],
   "metadata": {
    "collapsed": false,
    "pycharm": {
     "name": "#%%\n"
    }
   }
  }
 ],
 "metadata": {
  "kernelspec": {
   "display_name": "Python 3",
   "language": "python",
   "name": "python3"
  },
  "language_info": {
   "codemirror_mode": {
    "name": "ipython",
    "version": 2
   },
   "file_extension": ".py",
   "mimetype": "text/x-python",
   "name": "python",
   "nbconvert_exporter": "python",
   "pygments_lexer": "ipython2",
   "version": "2.7.6"
  }
 },
 "nbformat": 4,
 "nbformat_minor": 0
}