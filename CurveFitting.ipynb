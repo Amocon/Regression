{
 "cells": [
  {
   "attachments": {},
   "cell_type": "markdown",
   "metadata": {},
   "source": [
    "# Regression in Python"
   ]
  },
  {
   "attachments": {},
   "cell_type": "markdown",
   "metadata": {},
   "source": [
    "<div style=\"color:#F00\"><H1>Wichtig!: bitte ein anderes Dataset aussuchen</h1></div>"
   ]
  },
  {
   "attachments": {},
   "cell_type": "markdown",
   "metadata": {},
   "source": [
    "Dieses Notebook beinhaltet das Praktische Vorgehen bei dem AUfbau (nicht) linearer Regressionen. Hierfür werden die, in der Arbeit beschriebenen, Pakete NumPy, Pandas, MathPlotLib und SciPy bzw. die funktion curve_fit von dem SciPy Unterpaket SciPy.optimize genutzt. Anzumerken ist, dass die Schritte der Datensammlung und Aufbereitung hier nicht behandelt werden, da dies den Rahmen dieser Arbeit überschreitet. Im folgenden wird ein Datenset genutzt, welches frei Verfügbar auf der Website Kaggle aufzufinden ist. Anzumerken ist, das Grundsätzlich alle erkenntnisse mit dem jeweils notwendigem Fachwissen begutachtet werden müssen, um nicht ehlgeleitete Schlüsse zu ziehen."
   ]
  },
  {
   "cell_type": "code",
   "execution_count": 1,
   "metadata": {},
   "outputs": [],
   "source": [
    "import pandas as pd\n",
    "import numpy as np\n",
    "import matplotlib.pyplot as plt\n",
    "from scipy.optimize import curve_fit"
   ]
  },
  {
   "attachments": {},
   "cell_type": "markdown",
   "metadata": {},
   "source": [
    "## Welche Daten brauchen wir?"
   ]
  },
  {
   "attachments": {},
   "cell_type": "markdown",
   "metadata": {},
   "source": [
    "Um dieses Dataset zu nutzen, müssen wir es zu erst importieren. Dies geschieht mittels des Pandas Paket. Die Pandas.read...() funktionen bieten hierfür eine gute leicht nutzbare Möglichkeit"
   ]
  },
  {
   "cell_type": "code",
   "execution_count": 2,
   "metadata": {},
   "outputs": [
    {
     "data": {
      "text/html": [
       "<div>\n",
       "<style scoped>\n",
       "    .dataframe tbody tr th:only-of-type {\n",
       "        vertical-align: middle;\n",
       "    }\n",
       "\n",
       "    .dataframe tbody tr th {\n",
       "        vertical-align: top;\n",
       "    }\n",
       "\n",
       "    .dataframe thead th {\n",
       "        text-align: right;\n",
       "    }\n",
       "</style>\n",
       "<table border=\"1\" class=\"dataframe\">\n",
       "  <thead>\n",
       "    <tr style=\"text-align: right;\">\n",
       "      <th></th>\n",
       "      <th>0</th>\n",
       "      <th>1</th>\n",
       "      <th>2</th>\n",
       "      <th>3</th>\n",
       "      <th>4</th>\n",
       "      <th>5</th>\n",
       "      <th>6</th>\n",
       "    </tr>\n",
       "  </thead>\n",
       "  <tbody>\n",
       "    <tr>\n",
       "      <th>0</th>\n",
       "      <td>83.0</td>\n",
       "      <td>234.289</td>\n",
       "      <td>235.6</td>\n",
       "      <td>159.0</td>\n",
       "      <td>107.608</td>\n",
       "      <td>1947</td>\n",
       "      <td>60.323</td>\n",
       "    </tr>\n",
       "    <tr>\n",
       "      <th>1</th>\n",
       "      <td>88.5</td>\n",
       "      <td>259.426</td>\n",
       "      <td>232.5</td>\n",
       "      <td>145.6</td>\n",
       "      <td>108.632</td>\n",
       "      <td>1948</td>\n",
       "      <td>61.122</td>\n",
       "    </tr>\n",
       "    <tr>\n",
       "      <th>2</th>\n",
       "      <td>88.2</td>\n",
       "      <td>258.054</td>\n",
       "      <td>368.2</td>\n",
       "      <td>161.6</td>\n",
       "      <td>109.773</td>\n",
       "      <td>1949</td>\n",
       "      <td>60.171</td>\n",
       "    </tr>\n",
       "    <tr>\n",
       "      <th>3</th>\n",
       "      <td>89.5</td>\n",
       "      <td>284.599</td>\n",
       "      <td>335.1</td>\n",
       "      <td>165.0</td>\n",
       "      <td>110.929</td>\n",
       "      <td>1950</td>\n",
       "      <td>61.187</td>\n",
       "    </tr>\n",
       "    <tr>\n",
       "      <th>4</th>\n",
       "      <td>96.2</td>\n",
       "      <td>328.975</td>\n",
       "      <td>209.9</td>\n",
       "      <td>309.9</td>\n",
       "      <td>112.075</td>\n",
       "      <td>1951</td>\n",
       "      <td>63.221</td>\n",
       "    </tr>\n",
       "  </tbody>\n",
       "</table>\n",
       "</div>"
      ],
      "text/plain": [
       "      0        1      2      3        4     5       6\n",
       "0  83.0  234.289  235.6  159.0  107.608  1947  60.323\n",
       "1  88.5  259.426  232.5  145.6  108.632  1948  61.122\n",
       "2  88.2  258.054  368.2  161.6  109.773  1949  60.171\n",
       "3  89.5  284.599  335.1  165.0  110.929  1950  61.187\n",
       "4  96.2  328.975  209.9  309.9  112.075  1951  63.221"
      ]
     },
     "execution_count": 2,
     "metadata": {},
     "output_type": "execute_result"
    }
   ],
   "source": [
    "#url = quelle des DataSets\n",
    "url = 'longley.csv'\n",
    "#DF = DataFrame\n",
    "df = pd.read_csv(url,header=None)\n",
    "df.head()"
   ]
  },
  {
   "attachments": {},
   "cell_type": "markdown",
   "metadata": {},
   "source": [
    "Nun, da wir die Datenpunkte ausgelesen haben, ist es wichtig sich ein Bild von der abhängigen und der einen oder den mehreren unabhängigen Variablen zu machen. Falls die relevanten Variablen bekannt sind, können diese direkt dargestellt werden, falls die Aufgabenstellung jedoch auf umfasst herauszufinden womit die abhängige Variable am stärksten Korreliert um darauf aufbauend ein Regressionmodel aufzubauen muss noch ein Zwischenschritt geschehen. Hierbei muss herausgefunden werden, welche Variable am stärksten mit der abhängigen Korreliert. "
   ]
  },
  {
   "cell_type": "code",
   "execution_count": 3,
   "metadata": {},
   "outputs": [
    {
     "data": {
      "text/html": [
       "<style type=\"text/css\">\n",
       "#T_fc4d8_row0_col0, #T_fc4d8_row1_col1, #T_fc4d8_row2_col2, #T_fc4d8_row3_col3, #T_fc4d8_row4_col4, #T_fc4d8_row5_col5, #T_fc4d8_row6_col6 {\n",
       "  background-color: #b40426;\n",
       "  color: #f1f1f1;\n",
       "}\n",
       "#T_fc4d8_row0_col1, #T_fc4d8_row0_col5, #T_fc4d8_row1_col4 {\n",
       "  background-color: #b8122a;\n",
       "  color: #f1f1f1;\n",
       "}\n",
       "#T_fc4d8_row0_col2 {\n",
       "  background-color: #f7b497;\n",
       "  color: #000000;\n",
       "}\n",
       "#T_fc4d8_row0_col3 {\n",
       "  background-color: #e8d6cc;\n",
       "  color: #000000;\n",
       "}\n",
       "#T_fc4d8_row0_col4 {\n",
       "  background-color: #c0282f;\n",
       "  color: #f1f1f1;\n",
       "}\n",
       "#T_fc4d8_row0_col6, #T_fc4d8_row5_col6, #T_fc4d8_row6_col0 {\n",
       "  background-color: #c73635;\n",
       "  color: #f1f1f1;\n",
       "}\n",
       "#T_fc4d8_row1_col0, #T_fc4d8_row4_col1, #T_fc4d8_row5_col0 {\n",
       "  background-color: #ba162b;\n",
       "  color: #f1f1f1;\n",
       "}\n",
       "#T_fc4d8_row1_col2 {\n",
       "  background-color: #f7b99e;\n",
       "  color: #000000;\n",
       "}\n",
       "#T_fc4d8_row1_col3 {\n",
       "  background-color: #e4d9d2;\n",
       "  color: #000000;\n",
       "}\n",
       "#T_fc4d8_row1_col5, #T_fc4d8_row4_col5, #T_fc4d8_row5_col1, #T_fc4d8_row5_col4 {\n",
       "  background-color: #b70d28;\n",
       "  color: #f1f1f1;\n",
       "}\n",
       "#T_fc4d8_row1_col6, #T_fc4d8_row6_col1 {\n",
       "  background-color: #be242e;\n",
       "  color: #f1f1f1;\n",
       "}\n",
       "#T_fc4d8_row2_col0 {\n",
       "  background-color: #9bbcff;\n",
       "  color: #000000;\n",
       "}\n",
       "#T_fc4d8_row2_col1 {\n",
       "  background-color: #98b9ff;\n",
       "  color: #000000;\n",
       "}\n",
       "#T_fc4d8_row2_col3, #T_fc4d8_row3_col0, #T_fc4d8_row3_col1, #T_fc4d8_row3_col2, #T_fc4d8_row3_col4, #T_fc4d8_row3_col5, #T_fc4d8_row3_col6 {\n",
       "  background-color: #3b4cc0;\n",
       "  color: #f1f1f1;\n",
       "}\n",
       "#T_fc4d8_row2_col4, #T_fc4d8_row5_col3 {\n",
       "  background-color: #dedcdb;\n",
       "  color: #000000;\n",
       "}\n",
       "#T_fc4d8_row2_col5 {\n",
       "  background-color: #cad8ef;\n",
       "  color: #000000;\n",
       "}\n",
       "#T_fc4d8_row2_col6 {\n",
       "  background-color: #5470de;\n",
       "  color: #f1f1f1;\n",
       "}\n",
       "#T_fc4d8_row4_col0 {\n",
       "  background-color: #c12b30;\n",
       "  color: #f1f1f1;\n",
       "}\n",
       "#T_fc4d8_row4_col2 {\n",
       "  background-color: #f5a081;\n",
       "  color: #000000;\n",
       "}\n",
       "#T_fc4d8_row4_col3 {\n",
       "  background-color: #d2dbe8;\n",
       "  color: #000000;\n",
       "}\n",
       "#T_fc4d8_row4_col6 {\n",
       "  background-color: #cd423b;\n",
       "  color: #f1f1f1;\n",
       "}\n",
       "#T_fc4d8_row5_col2 {\n",
       "  background-color: #f7a688;\n",
       "  color: #000000;\n",
       "}\n",
       "#T_fc4d8_row6_col2 {\n",
       "  background-color: #eed0c0;\n",
       "  color: #000000;\n",
       "}\n",
       "#T_fc4d8_row6_col3 {\n",
       "  background-color: #e7d7ce;\n",
       "  color: #000000;\n",
       "}\n",
       "#T_fc4d8_row6_col4 {\n",
       "  background-color: #ca3b37;\n",
       "  color: #f1f1f1;\n",
       "}\n",
       "#T_fc4d8_row6_col5 {\n",
       "  background-color: #c53334;\n",
       "  color: #f1f1f1;\n",
       "}\n",
       "</style>\n",
       "<table id=\"T_fc4d8\">\n",
       "  <thead>\n",
       "    <tr>\n",
       "      <th class=\"blank level0\" >&nbsp;</th>\n",
       "      <th id=\"T_fc4d8_level0_col0\" class=\"col_heading level0 col0\" >0</th>\n",
       "      <th id=\"T_fc4d8_level0_col1\" class=\"col_heading level0 col1\" >1</th>\n",
       "      <th id=\"T_fc4d8_level0_col2\" class=\"col_heading level0 col2\" >2</th>\n",
       "      <th id=\"T_fc4d8_level0_col3\" class=\"col_heading level0 col3\" >3</th>\n",
       "      <th id=\"T_fc4d8_level0_col4\" class=\"col_heading level0 col4\" >4</th>\n",
       "      <th id=\"T_fc4d8_level0_col5\" class=\"col_heading level0 col5\" >5</th>\n",
       "      <th id=\"T_fc4d8_level0_col6\" class=\"col_heading level0 col6\" >6</th>\n",
       "    </tr>\n",
       "  </thead>\n",
       "  <tbody>\n",
       "    <tr>\n",
       "      <th id=\"T_fc4d8_level0_row0\" class=\"row_heading level0 row0\" >0</th>\n",
       "      <td id=\"T_fc4d8_row0_col0\" class=\"data row0 col0\" >1.000000</td>\n",
       "      <td id=\"T_fc4d8_row0_col1\" class=\"data row0 col1\" >0.991589</td>\n",
       "      <td id=\"T_fc4d8_row0_col2\" class=\"data row0 col2\" >0.620633</td>\n",
       "      <td id=\"T_fc4d8_row0_col3\" class=\"data row0 col3\" >0.464744</td>\n",
       "      <td id=\"T_fc4d8_row0_col4\" class=\"data row0 col4\" >0.979163</td>\n",
       "      <td id=\"T_fc4d8_row0_col5\" class=\"data row0 col5\" >0.991149</td>\n",
       "      <td id=\"T_fc4d8_row0_col6\" class=\"data row0 col6\" >0.970899</td>\n",
       "    </tr>\n",
       "    <tr>\n",
       "      <th id=\"T_fc4d8_level0_row1\" class=\"row_heading level0 row1\" >1</th>\n",
       "      <td id=\"T_fc4d8_row1_col0\" class=\"data row1 col0\" >0.991589</td>\n",
       "      <td id=\"T_fc4d8_row1_col1\" class=\"data row1 col1\" >1.000000</td>\n",
       "      <td id=\"T_fc4d8_row1_col2\" class=\"data row1 col2\" >0.604261</td>\n",
       "      <td id=\"T_fc4d8_row1_col3\" class=\"data row1 col3\" >0.446437</td>\n",
       "      <td id=\"T_fc4d8_row1_col4\" class=\"data row1 col4\" >0.991090</td>\n",
       "      <td id=\"T_fc4d8_row1_col5\" class=\"data row1 col5\" >0.995273</td>\n",
       "      <td id=\"T_fc4d8_row1_col6\" class=\"data row1 col6\" >0.983552</td>\n",
       "    </tr>\n",
       "    <tr>\n",
       "      <th id=\"T_fc4d8_level0_row2\" class=\"row_heading level0 row2\" >2</th>\n",
       "      <td id=\"T_fc4d8_row2_col0\" class=\"data row2 col0\" >0.620633</td>\n",
       "      <td id=\"T_fc4d8_row2_col1\" class=\"data row2 col1\" >0.604261</td>\n",
       "      <td id=\"T_fc4d8_row2_col2\" class=\"data row2 col2\" >1.000000</td>\n",
       "      <td id=\"T_fc4d8_row2_col3\" class=\"data row2 col3\" >-0.177421</td>\n",
       "      <td id=\"T_fc4d8_row2_col4\" class=\"data row2 col4\" >0.686552</td>\n",
       "      <td id=\"T_fc4d8_row2_col5\" class=\"data row2 col5\" >0.668257</td>\n",
       "      <td id=\"T_fc4d8_row2_col6\" class=\"data row2 col6\" >0.502498</td>\n",
       "    </tr>\n",
       "    <tr>\n",
       "      <th id=\"T_fc4d8_level0_row3\" class=\"row_heading level0 row3\" >3</th>\n",
       "      <td id=\"T_fc4d8_row3_col0\" class=\"data row3 col0\" >0.464744</td>\n",
       "      <td id=\"T_fc4d8_row3_col1\" class=\"data row3 col1\" >0.446437</td>\n",
       "      <td id=\"T_fc4d8_row3_col2\" class=\"data row3 col2\" >-0.177421</td>\n",
       "      <td id=\"T_fc4d8_row3_col3\" class=\"data row3 col3\" >1.000000</td>\n",
       "      <td id=\"T_fc4d8_row3_col4\" class=\"data row3 col4\" >0.364416</td>\n",
       "      <td id=\"T_fc4d8_row3_col5\" class=\"data row3 col5\" >0.417245</td>\n",
       "      <td id=\"T_fc4d8_row3_col6\" class=\"data row3 col6\" >0.457307</td>\n",
       "    </tr>\n",
       "    <tr>\n",
       "      <th id=\"T_fc4d8_level0_row4\" class=\"row_heading level0 row4\" >4</th>\n",
       "      <td id=\"T_fc4d8_row4_col0\" class=\"data row4 col0\" >0.979163</td>\n",
       "      <td id=\"T_fc4d8_row4_col1\" class=\"data row4 col1\" >0.991090</td>\n",
       "      <td id=\"T_fc4d8_row4_col2\" class=\"data row4 col2\" >0.686552</td>\n",
       "      <td id=\"T_fc4d8_row4_col3\" class=\"data row4 col3\" >0.364416</td>\n",
       "      <td id=\"T_fc4d8_row4_col4\" class=\"data row4 col4\" >1.000000</td>\n",
       "      <td id=\"T_fc4d8_row4_col5\" class=\"data row4 col5\" >0.993953</td>\n",
       "      <td id=\"T_fc4d8_row4_col6\" class=\"data row4 col6\" >0.960391</td>\n",
       "    </tr>\n",
       "    <tr>\n",
       "      <th id=\"T_fc4d8_level0_row5\" class=\"row_heading level0 row5\" >5</th>\n",
       "      <td id=\"T_fc4d8_row5_col0\" class=\"data row5 col0\" >0.991149</td>\n",
       "      <td id=\"T_fc4d8_row5_col1\" class=\"data row5 col1\" >0.995273</td>\n",
       "      <td id=\"T_fc4d8_row5_col2\" class=\"data row5 col2\" >0.668257</td>\n",
       "      <td id=\"T_fc4d8_row5_col3\" class=\"data row5 col3\" >0.417245</td>\n",
       "      <td id=\"T_fc4d8_row5_col4\" class=\"data row5 col4\" >0.993953</td>\n",
       "      <td id=\"T_fc4d8_row5_col5\" class=\"data row5 col5\" >1.000000</td>\n",
       "      <td id=\"T_fc4d8_row5_col6\" class=\"data row5 col6\" >0.971329</td>\n",
       "    </tr>\n",
       "    <tr>\n",
       "      <th id=\"T_fc4d8_level0_row6\" class=\"row_heading level0 row6\" >6</th>\n",
       "      <td id=\"T_fc4d8_row6_col0\" class=\"data row6 col0\" >0.970899</td>\n",
       "      <td id=\"T_fc4d8_row6_col1\" class=\"data row6 col1\" >0.983552</td>\n",
       "      <td id=\"T_fc4d8_row6_col2\" class=\"data row6 col2\" >0.502498</td>\n",
       "      <td id=\"T_fc4d8_row6_col3\" class=\"data row6 col3\" >0.457307</td>\n",
       "      <td id=\"T_fc4d8_row6_col4\" class=\"data row6 col4\" >0.960391</td>\n",
       "      <td id=\"T_fc4d8_row6_col5\" class=\"data row6 col5\" >0.971329</td>\n",
       "      <td id=\"T_fc4d8_row6_col6\" class=\"data row6 col6\" >1.000000</td>\n",
       "    </tr>\n",
       "  </tbody>\n",
       "</table>\n"
      ],
      "text/plain": [
       "<pandas.io.formats.style.Styler at 0x2d23a546fb0>"
      ]
     },
     "execution_count": 3,
     "metadata": {},
     "output_type": "execute_result"
    }
   ],
   "source": [
    "df.corr().style.background_gradient(cmap='coolwarm')"
   ]
  },
  {
   "attachments": {},
   "cell_type": "markdown",
   "metadata": {},
   "source": [
    "An diesem Beispiel sehen wir z.B. das unsere anhängige Variable (4) am stärksten mit der Variablen 5 Korreliert. Für die Bewertung dieser Korrelation ist ein gewisses Maß an Domainenwissen unabdingbar, da man durch das Definieren einer Abhängigen und einer unabhängigen Variablen zwar eine Kausalität impliziert, diese sich jedoch nicht durch die Betrachtung von Korrelationen nachweisen lässt. "
   ]
  },
  {
   "attachments": {},
   "cell_type": "markdown",
   "metadata": {},
   "source": [
    "## Wie sehen unsere Daten aus?"
   ]
  },
  {
   "attachments": {},
   "cell_type": "markdown",
   "metadata": {},
   "source": [
    "In diesem Teil untersuchen wir die Daten nun, um daraufhin zu entscheiden, welche Art von Funktion nötig ist, und um für die folgenden Schätzungen eine bessere Entscheidungsgrundlage zu schaffen. Hierzu plotten wir die Datenpunkte."
   ]
  },
  {
   "cell_type": "code",
   "execution_count": 4,
   "metadata": {},
   "outputs": [
    {
     "data": {
      "text/plain": [
       "<matplotlib.legend.Legend at 0x2d26b0e7700>"
      ]
     },
     "execution_count": 4,
     "metadata": {},
     "output_type": "execute_result"
    },
    {
     "data": {
      "image/png": "[encoded data removed]",
      "text/plain": [
       "<Figure size 432x288 with 1 Axes>"
      ]
     },
     "metadata": {
      "needs_background": "light"
     },
     "output_type": "display_data"
    }
   ],
   "source": [
    "data = df.values\n",
    "# choose the input and output variables\n",
    "# garkein Plan was 4 und -1 sind und ob das die sind über die ich geschrieben habe aber das ändern wir eh noch\n",
    "x, y = data[:, 4], data[:, -1]\n",
    "# plot input vs output\n",
    "plt.scatter(x, y, label='Raw Data')\n",
    "plt.xlabel('Population')\n",
    "plt.ylabel('Employed')\n",
    "plt.legend(loc='lower right')"
   ]
  },
  {
   "attachments": {},
   "cell_type": "markdown",
   "metadata": {},
   "source": [
    "Diese Datenpunkte lassen einen Linearen Zusammenhang vermuten."
   ]
  },
  {
   "attachments": {},
   "cell_type": "markdown",
   "metadata": {},
   "source": [
    "## Curve Fitting"
   ]
  },
  {
   "attachments": {},
   "cell_type": "markdown",
   "metadata": {},
   "source": [
    "Nun da wir entschieden haben, einen linearen Zusammenhang zu vermuten, ist es an der Zeit die nötigen Parameter für das CurveFitting zu definieren. Mindestens gebraucht werden hierbei die Daten der abhängigen und unabhängigen Variablen wie auch die jeweils gewählte Funktion. "
   ]
  },
  {
   "cell_type": "code",
   "execution_count": 5,
   "metadata": {},
   "outputs": [],
   "source": [
    "def linear_fit(x,m,b):\n",
    "    return m*x + b"
   ]
  },
  {
   "attachments": {},
   "cell_type": "markdown",
   "metadata": {},
   "source": [
    "Die Funktion linear_fit hat als parameter an erster Stelle die unabhängige Variable x und als darauffolgende Parameter die Parameter der Funktion die opmimiert werden sollen. Nun, da die mindestanforderungen für ein CurveFitting erfüllt sind, können wir nun die Funktion nutzen."
   ]
  },
  {
   "cell_type": "code",
   "execution_count": 6,
   "metadata": {},
   "outputs": [],
   "source": [
    "optParams, covMat = curve_fit(linear_fit, x, y)"
   ]
  },
  {
   "cell_type": "code",
   "execution_count": 7,
   "metadata": {},
   "outputs": [
    {
     "data": {
      "image/png": "[encoded data removed]",
      "text/plain": [
       "<Figure size 432x288 with 2 Axes>"
      ]
     },
     "metadata": {
      "needs_background": "light"
     },
     "output_type": "display_data"
    }
   ],
   "source": [
    "plt.imshow(np.log(np.abs(covMat)))\n",
    "plt.colorbar()\n",
    "plt.show()"
   ]
  },
  {
   "attachments": {},
   "cell_type": "markdown",
   "metadata": {},
   "source": [
    "Diese Funktion gibt uns 2 Dinge zurück. Einerseits optParams, welches die optimalen Parameter (für m und b aus der linear_fit() Funktion) zurückgibt und covMat, welches uns eine covarianzMatrix zurückgibt."
   ]
  },
  {
   "cell_type": "code",
   "execution_count": 8,
   "metadata": {},
   "outputs": [
    {
     "name": "stdout",
     "output_type": "stream",
     "text": [
      "Opmital Parameters\n",
      "m: 0.4848780927389055\n",
      "b: 8.380674758772678\n",
      "\n",
      "Covaraianz Matrix\n",
      "[[ 1.41378134e-03 -1.66011861e-01]\n",
      " [-1.66011861e-01  1.95579106e+01]]\n"
     ]
    }
   ],
   "source": [
    "print(\"Opmital Parameters\")\n",
    "print(\"m: \" + str(optParams[0]) + \"\\nb: \" + str(optParams[1]))\n",
    "print(\"\")\n",
    "print(\"Covaraianz Matrix\")\n",
    "print(covMat)"
   ]
  },
  {
   "attachments": {},
   "cell_type": "markdown",
   "metadata": {},
   "source": [
    "Die optimalen Parameter kann man nun für m respektive b einsetzen und die lineare Rergessionsgerade ist fertig. Die CovarianzMatrix beinhaltet den \"Fehler\" der Parameter, wie die Beziehung der einzelnen Parameter zueinander. In diesem Beispiel sind die Covarianzen relativ gering, jedoch kann man mit kleinen Anpassungen an unserer Ursprungsfunktion zeigen wie die Covarianzmatrix ein hilfreiches Analysetool darstellen kann. Hierzu definieren wir einen weiteren Parameter t welcher wie der Parameter b nur den Y-Achsenabschnitt beeinflusst."
   ]
  },
  {
   "attachments": {},
   "cell_type": "markdown",
   "metadata": {},
   "source": [
    "## Beispiel: Fehleranalyse mittel CovarianzMatrix"
   ]
  },
  {
   "cell_type": "code",
   "execution_count": 9,
   "metadata": {},
   "outputs": [],
   "source": [
    "def linear_fit_cov(x,m,b, t):\n",
    "    return m*x +b + 0.0002*t"
   ]
  },
  {
   "attachments": {},
   "cell_type": "markdown",
   "metadata": {},
   "source": [
    "Wenn wir nun diese Funktio nutzen um das Curve Fitting durchzuführen ergeben andere Parameterwerte"
   ]
  },
  {
   "cell_type": "code",
   "execution_count": 10,
   "metadata": {},
   "outputs": [],
   "source": [
    "optParams, covMat = curve_fit(linear_fit_cov, x, y)"
   ]
  },
  {
   "cell_type": "code",
   "execution_count": 11,
   "metadata": {},
   "outputs": [
    {
     "name": "stdout",
     "output_type": "stream",
     "text": [
      "Opmital Parameters\n",
      "m: 0.48487810861760383\n",
      "b: -398.9337881374815\n",
      "\n",
      "Covaraianz Matrix\n",
      "[[ 1.52253390e-03 -9.10393669e-02 -4.38713281e+02]\n",
      " [-9.11899605e-02  2.08742058e+14 -1.04371028e+18]\n",
      " [-4.37608210e+02 -1.04371028e+18  5.21855137e+21]]\n"
     ]
    }
   ],
   "source": [
    "print(\"Opmital Parameters\")\n",
    "print(\"m: \" + str(optParams[0]) + \"\\nb: \" + str(optParams[1]))\n",
    "print(\"\")\n",
    "print(\"Covaraianz Matrix\")\n",
    "print(covMat)"
   ]
  },
  {
   "attachments": {},
   "cell_type": "markdown",
   "metadata": {},
   "source": [
    "Um die Covarianz Matrix lesbarer zu machen Plotten wie diese nun."
   ]
  },
  {
   "cell_type": "code",
   "execution_count": 12,
   "metadata": {},
   "outputs": [
    {
     "data": {
      "image/png": "[encoded data removed]",
      "text/plain": [
       "<Figure size 432x288 with 2 Axes>"
      ]
     },
     "metadata": {
      "needs_background": "light"
     },
     "output_type": "display_data"
    }
   ],
   "source": [
    "plt.imshow(np.log(np.abs(covMat)))\n",
    "plt.colorbar()\n",
    "plt.show()"
   ]
  },
  {
   "attachments": {},
   "cell_type": "markdown",
   "metadata": {},
   "source": [
    "Auffällig ist direkt, dass die Skala nun viel weiter ausschlägt als noch beim curve Fitting mit der linear_fit() Funktion. Die Variablen b und t haben einen großen Fehler, also ist sich die Funktion relativ unsicher ob sie den best Möglichen Fit gefunden hat. Wenn man solche Punkte findet, sollte die Funktion welche zu beginn angenommen wurde hinterfragt und wenn möglich verbessert werden."
   ]
  },
  {
   "attachments": {},
   "cell_type": "markdown",
   "metadata": {},
   "source": [
    "## Vermutung aufstellen"
   ]
  },
  {
   "attachments": {},
   "cell_type": "markdown",
   "metadata": {},
   "source": [
    "Beim Curve Fitting ist es häufig Sinnvoll der Funktion curve_fit() erste Schätzungen für die Parameter abzugeben. Diese werden daraufhin von der Funktion mit einbezogen und helfen dabei bessere Fits für die Parameter zu finden. Hierbei ist zu beachten, dass die Qualität der Vermutung die Qualität der von curve_fit() aufgestellten Parameter beeinflusst. Der Parameter p0 der funtion curve_fit nimmt hierbei Beta, also den Vektor an Parametern an. Hierbei muss die Reihenfolge und Anzahl der Parameter die selbe sein, wie die in der definierten Funktion. Aus den scatter Plot kann man vermuten, dass die Population Anzahl doppelt so schnell steigt, wie die der Mitarbeiter, da von 110 bis 120 Population die Werte der Mitarbeiter von ca 61 auf ca 66 steigen. Unsere Vermutung für m wäre daher 0.5. Aus dem Abschnitt, den wir in den Daten haben kann man nicht leicht auf den Y-Achsen Abschnitt (also b) kommen. Aber wenn die erste Annahme von m = 0.5 genutzt wird ergibt sich schnell, dass der Y-Achsenabschnitt bei ca. 6 sein muss (Wenn man von 110 Population für alle 10 an Population weniger 5 an Employee weniger geht)."
   ]
  },
  {
   "cell_type": "code",
   "execution_count": 13,
   "metadata": {},
   "outputs": [],
   "source": [
    "optParams, covMat = curve_fit(linear_fit, x, y, p0=[0.5, 6])"
   ]
  },
  {
   "cell_type": "code",
   "execution_count": 14,
   "metadata": {},
   "outputs": [
    {
     "name": "stdout",
     "output_type": "stream",
     "text": [
      "Opmital Parameters\n",
      "m: 0.4848781016303966\n",
      "b: 8.380673793627253\n",
      "\n",
      "Covaraianz Matrix\n",
      "[[ 1.41378231e-03 -1.66011970e-01]\n",
      " [-1.66011970e-01  1.95579226e+01]]\n"
     ]
    }
   ],
   "source": [
    "print(\"Opmital Parameters\")\n",
    "print(\"m: \" + str(optParams[0]) + \"\\nb: \" + str(optParams[1]))\n",
    "print(\"\")\n",
    "print(\"Covaraianz Matrix\")\n",
    "print(covMat)"
   ]
  },
  {
   "attachments": {},
   "cell_type": "markdown",
   "metadata": {},
   "source": [
    "## Nicht lineare Regression"
   ]
  },
  {
   "attachments": {},
   "cell_type": "markdown",
   "metadata": {},
   "source": [
    "Es gibt bei nicht linearen Regressionen nicht nur die eine, wie es bei Linearen immer eine Form von y = mx + b ist. Zu den Formen nicht linearer Regressionen gehören z.B. Exponentialfunktion, logarythmusfunktionen und andere (aus dem teil von den anderen übernehmen). Wie für verschiedene nicht lineare Funktionen die Bestimmung in der Theorie aussieht wurde in vorherigen Teilen dieser Arbeit definiert, hier wird darauf eingegangen, wie nicht lineare Regressionen pratisch anzuwenden sind und an einem Beispiel erläutet."
   ]
  },
  {
   "attachments": {},
   "cell_type": "markdown",
   "metadata": {},
   "source": [
    "Um mit SciPys curve_fit() Funktionen einen nicht Linearen zusammenhang darzustellen gibt es eine naheliegende Lösung. Wie in Vorherigen Teilen dieser Arbeit beschrieben brauchen wir um diese Funktion zu nutzen eine Funktion, welche den Zusammenhang zwischen den Daten beschreiben soll. Diese Funktion muss aber nicht linear sein, und kann jeden beliebigen Zusammenhang darstellen. Die allgemeine Scheitelform ist z.B. f(x) = a(x−d)² + e"
   ]
  },
  {
   "cell_type": "code",
   "execution_count": 15,
   "metadata": {},
   "outputs": [],
   "source": [
    "def nonLinear_fit(x,a,b,c):\n",
    "    return a*x**2 + b*x + c"
   ]
  },
  {
   "cell_type": "code",
   "execution_count": 16,
   "metadata": {},
   "outputs": [
    {
     "name": "stdout",
     "output_type": "stream",
     "text": [
      "Opmital Parameters\n",
      "[-1.16963068e-02  3.25443588e+00 -1.55027991e+02]\n",
      "\n",
      "Covaraianz Matrix\n",
      "[[ 2.73504527e-05 -6.47628866e-03  3.82112152e-01]\n",
      " [-6.47628866e-03  1.53461395e+00 -9.06090933e+01]\n",
      " [ 3.82112152e-01 -9.06090933e+01  5.35368469e+03]]\n"
     ]
    }
   ],
   "source": [
    "optParams, covMat = curve_fit(nonLinear_fit, x, y)\n",
    "print(\"Opmital Parameters\")\n",
    "print(optParams)\n",
    "print(\"\")\n",
    "print(\"Covaraianz Matrix\")\n",
    "print(covMat)"
   ]
  },
  {
   "cell_type": "code",
   "execution_count": 17,
   "metadata": {},
   "outputs": [
    {
     "data": {
      "text/plain": [
       "<matplotlib.legend.Legend at 0x2d26f3ba950>"
      ]
     },
     "execution_count": 17,
     "metadata": {},
     "output_type": "execute_result"
    },
    {
     "data": {
      "image/png": "[encoded data removed]",
      "text/plain": [
       "<Figure size 432x288 with 1 Axes>"
      ]
     },
     "metadata": {
      "needs_background": "light"
     },
     "output_type": "display_data"
    }
   ],
   "source": [
    "x_monotonic = np.arange(min(x),max(x),1)\n",
    "y_fit = nonLinear_fit(x_monotonic,*optParams)\n",
    "plt.plot(x_monotonic,y_fit,'--',color='red',label='Quadratic Fit')\n",
    "plt.legend(loc='lower right')\n",
    "plt.scatter(x, y, label='Raw Data')\n",
    "plt.xlabel('Population')\n",
    "plt.ylabel('Employed')\n",
    "plt.legend(loc='lower right')"
   ]
  },
  {
   "attachments": {},
   "cell_type": "markdown",
   "metadata": {},
   "source": [
    "So würde z.B. eine nicht lineare Regression durch unsere Datenpunkte aussehen können. Wenn man sich zwischen verschiedenen Methoden der Regression unsicher ist, kann man die verschiedenen Modelle untersuchen und aus den Kennzahlen Erkentnisse gewinnen"
   ]
  }
 ],
 "metadata": {
  "kernelspec": {
   "display_name": "Python 3",
   "language": "python",
   "name": "python3"
  },
  "language_info": {
   "codemirror_mode": {
    "name": "ipython",
    "version": 3
   },
   "file_extension": ".py",
   "mimetype": "text/x-python",
   "name": "python",
   "nbconvert_exporter": "python",
   "pygments_lexer": "ipython3",
   "version": "3.10.4"
  },
  "orig_nbformat": 4
 },
 "nbformat": 4,
 "nbformat_minor": 2
}
